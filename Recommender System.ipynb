{
 "cells": [
  {
   "cell_type": "markdown",
   "metadata": {},
   "source": [
    "# Movie Recommender System"
   ]
  },
  {
   "cell_type": "markdown",
   "metadata": {},
   "source": [
    "## Dataset: [MovieLens 20m Dataset](https://grouplens.org/datasets/movielens/20m/)"
   ]
  },
  {
   "cell_type": "markdown",
   "metadata": {},
   "source": [
    "### Import all the necessary header files as follows:\n",
    "\n",
    "**pandas** : An open source library used for data manipulation, cleaning, analysis and visualization. <br/>\n",
    "**numpy** : A library used to manipulate multi-dimensional data in the \tform of numpy arrays with useful in-built functions. <br/>\n",
    "**graphlab** : A library created by Turi allowing the users to design applications by providing many algorithms. <br/>\n",
    "**Ipython** : A library used to open external files of supported format to be embedded in the Jupyter Notebook.\t<br/>\n",
    "**matplotlib** : A library used for plotting and visualization of data. <br/>\n",
    "**seaborn** : A library based on matplotlib which is used for plotting of data. <br/>\n",
    "**re** : A library used to perform various operations regular expressions."
   ]
  },
  {
   "cell_type": "code",
   "execution_count": 1,
   "metadata": {},
   "outputs": [],
   "source": [
    "# Importing the header files\n",
    "import pandas as pd\n",
    "import matplotlib.pyplot as plt\n",
    "import seaborn as sns\n",
    "import graphlab\n",
    "import re\n",
    "from IPython.display import Image"
   ]
  },
  {
   "cell_type": "markdown",
   "metadata": {},
   "source": [
    "### Read the data from the movielens dataset using the read_csv() function from the pandas library."
   ]
  },
  {
   "cell_type": "code",
   "execution_count": 2,
   "metadata": {},
   "outputs": [],
   "source": [
    "# Reading the dataset\n",
    "ratings = pd.read_csv('ml-20m/ratings.csv')\n",
    "movies = pd.read_csv('ml-20m/movies.csv')\n",
    "links = pd.read_csv('ml-20m/links.csv')\n",
    "scores = pd.read_csv('ml-20m/genome-scores.csv')\n",
    "tags = pd.read_csv('ml-20m/tags.csv')\n",
    "gnometags = pd.read_csv('ml-20m/genome-tags.csv')"
   ]
  },
  {
   "cell_type": "markdown",
   "metadata": {},
   "source": [
    "### Inspecting and cleaning the data"
   ]
  },
  {
   "cell_type": "code",
   "execution_count": 3,
   "metadata": {},
   "outputs": [
    {
     "data": {
      "text/plain": [
       "Index([u'userId', u'movieId', u'rating', u'timestamp'], dtype='object')"
      ]
     },
     "execution_count": 3,
     "metadata": {},
     "output_type": "execute_result"
    }
   ],
   "source": [
    "ratings.columns"
   ]
  },
  {
   "cell_type": "code",
   "execution_count": 4,
   "metadata": {},
   "outputs": [
    {
     "data": {
      "text/plain": [
       "Index([u'movieId', u'title', u'genres'], dtype='object')"
      ]
     },
     "execution_count": 4,
     "metadata": {},
     "output_type": "execute_result"
    }
   ],
   "source": [
    "movies.columns"
   ]
  },
  {
   "cell_type": "code",
   "execution_count": 5,
   "metadata": {},
   "outputs": [
    {
     "data": {
      "text/plain": [
       "Index([u'movieId', u'imdbId', u'tmdbId'], dtype='object')"
      ]
     },
     "execution_count": 5,
     "metadata": {},
     "output_type": "execute_result"
    }
   ],
   "source": [
    "links.columns"
   ]
  },
  {
   "cell_type": "code",
   "execution_count": 6,
   "metadata": {},
   "outputs": [
    {
     "data": {
      "text/plain": [
       "Index([u'movieId', u'tagId', u'relevance'], dtype='object')"
      ]
     },
     "execution_count": 6,
     "metadata": {},
     "output_type": "execute_result"
    }
   ],
   "source": [
    "scores.columns"
   ]
  },
  {
   "cell_type": "code",
   "execution_count": 7,
   "metadata": {},
   "outputs": [
    {
     "data": {
      "text/plain": [
       "Index([u'userId', u'movieId', u'tag', u'timestamp'], dtype='object')"
      ]
     },
     "execution_count": 7,
     "metadata": {},
     "output_type": "execute_result"
    }
   ],
   "source": [
    "tags.columns"
   ]
  },
  {
   "cell_type": "code",
   "execution_count": 8,
   "metadata": {},
   "outputs": [
    {
     "data": {
      "text/plain": [
       "Index([u'tagId', u'tag'], dtype='object')"
      ]
     },
     "execution_count": 8,
     "metadata": {},
     "output_type": "execute_result"
    }
   ],
   "source": [
    "gnometags.columns"
   ]
  },
  {
   "cell_type": "code",
   "execution_count": 9,
   "metadata": {},
   "outputs": [
    {
     "data": {
      "text/html": [
       "<div>\n",
       "<style scoped>\n",
       "    .dataframe tbody tr th:only-of-type {\n",
       "        vertical-align: middle;\n",
       "    }\n",
       "\n",
       "    .dataframe tbody tr th {\n",
       "        vertical-align: top;\n",
       "    }\n",
       "\n",
       "    .dataframe thead th {\n",
       "        text-align: right;\n",
       "    }\n",
       "</style>\n",
       "<table border=\"1\" class=\"dataframe\">\n",
       "  <thead>\n",
       "    <tr style=\"text-align: right;\">\n",
       "      <th></th>\n",
       "      <th>userId</th>\n",
       "      <th>movieId</th>\n",
       "      <th>rating</th>\n",
       "    </tr>\n",
       "  </thead>\n",
       "  <tbody>\n",
       "    <tr>\n",
       "      <th>0</th>\n",
       "      <td>1</td>\n",
       "      <td>2</td>\n",
       "      <td>3.5</td>\n",
       "    </tr>\n",
       "    <tr>\n",
       "      <th>1</th>\n",
       "      <td>1</td>\n",
       "      <td>29</td>\n",
       "      <td>3.5</td>\n",
       "    </tr>\n",
       "    <tr>\n",
       "      <th>2</th>\n",
       "      <td>1</td>\n",
       "      <td>32</td>\n",
       "      <td>3.5</td>\n",
       "    </tr>\n",
       "    <tr>\n",
       "      <th>3</th>\n",
       "      <td>1</td>\n",
       "      <td>47</td>\n",
       "      <td>3.5</td>\n",
       "    </tr>\n",
       "    <tr>\n",
       "      <th>4</th>\n",
       "      <td>1</td>\n",
       "      <td>50</td>\n",
       "      <td>3.5</td>\n",
       "    </tr>\n",
       "  </tbody>\n",
       "</table>\n",
       "</div>"
      ],
      "text/plain": [
       "   userId  movieId  rating\n",
       "0       1        2     3.5\n",
       "1       1       29     3.5\n",
       "2       1       32     3.5\n",
       "3       1       47     3.5\n",
       "4       1       50     3.5"
      ]
     },
     "execution_count": 9,
     "metadata": {},
     "output_type": "execute_result"
    }
   ],
   "source": [
    "ratings = ratings.drop(['timestamp'], axis=1)\n",
    "ratings.head()"
   ]
  },
  {
   "cell_type": "code",
   "execution_count": 10,
   "metadata": {},
   "outputs": [
    {
     "data": {
      "text/html": [
       "<div>\n",
       "<style scoped>\n",
       "    .dataframe tbody tr th:only-of-type {\n",
       "        vertical-align: middle;\n",
       "    }\n",
       "\n",
       "    .dataframe tbody tr th {\n",
       "        vertical-align: top;\n",
       "    }\n",
       "\n",
       "    .dataframe thead th {\n",
       "        text-align: right;\n",
       "    }\n",
       "</style>\n",
       "<table border=\"1\" class=\"dataframe\">\n",
       "  <thead>\n",
       "    <tr style=\"text-align: right;\">\n",
       "      <th></th>\n",
       "      <th>movieId</th>\n",
       "      <th>title</th>\n",
       "      <th>genres</th>\n",
       "    </tr>\n",
       "  </thead>\n",
       "  <tbody>\n",
       "    <tr>\n",
       "      <th>0</th>\n",
       "      <td>1</td>\n",
       "      <td>Toy Story (1995)</td>\n",
       "      <td>Adventure|Animation|Children|Comedy|Fantasy</td>\n",
       "    </tr>\n",
       "    <tr>\n",
       "      <th>1</th>\n",
       "      <td>2</td>\n",
       "      <td>Jumanji (1995)</td>\n",
       "      <td>Adventure|Children|Fantasy</td>\n",
       "    </tr>\n",
       "    <tr>\n",
       "      <th>2</th>\n",
       "      <td>3</td>\n",
       "      <td>Grumpier Old Men (1995)</td>\n",
       "      <td>Comedy|Romance</td>\n",
       "    </tr>\n",
       "    <tr>\n",
       "      <th>3</th>\n",
       "      <td>4</td>\n",
       "      <td>Waiting to Exhale (1995)</td>\n",
       "      <td>Comedy|Drama|Romance</td>\n",
       "    </tr>\n",
       "    <tr>\n",
       "      <th>4</th>\n",
       "      <td>5</td>\n",
       "      <td>Father of the Bride Part II (1995)</td>\n",
       "      <td>Comedy</td>\n",
       "    </tr>\n",
       "  </tbody>\n",
       "</table>\n",
       "</div>"
      ],
      "text/plain": [
       "   movieId                               title  \\\n",
       "0        1                    Toy Story (1995)   \n",
       "1        2                      Jumanji (1995)   \n",
       "2        3             Grumpier Old Men (1995)   \n",
       "3        4            Waiting to Exhale (1995)   \n",
       "4        5  Father of the Bride Part II (1995)   \n",
       "\n",
       "                                        genres  \n",
       "0  Adventure|Animation|Children|Comedy|Fantasy  \n",
       "1                   Adventure|Children|Fantasy  \n",
       "2                               Comedy|Romance  \n",
       "3                         Comedy|Drama|Romance  \n",
       "4                                       Comedy  "
      ]
     },
     "execution_count": 10,
     "metadata": {},
     "output_type": "execute_result"
    }
   ],
   "source": [
    "movies.head()"
   ]
  },
  {
   "cell_type": "code",
   "execution_count": 11,
   "metadata": {},
   "outputs": [
    {
     "data": {
      "text/html": [
       "<div>\n",
       "<style scoped>\n",
       "    .dataframe tbody tr th:only-of-type {\n",
       "        vertical-align: middle;\n",
       "    }\n",
       "\n",
       "    .dataframe tbody tr th {\n",
       "        vertical-align: top;\n",
       "    }\n",
       "\n",
       "    .dataframe thead th {\n",
       "        text-align: right;\n",
       "    }\n",
       "</style>\n",
       "<table border=\"1\" class=\"dataframe\">\n",
       "  <thead>\n",
       "    <tr style=\"text-align: right;\">\n",
       "      <th></th>\n",
       "      <th>movieId</th>\n",
       "      <th>title</th>\n",
       "      <th>genres</th>\n",
       "      <th>year</th>\n",
       "    </tr>\n",
       "  </thead>\n",
       "  <tbody>\n",
       "    <tr>\n",
       "      <th>0</th>\n",
       "      <td>1</td>\n",
       "      <td>Toy Story (1995)</td>\n",
       "      <td>Adventure|Animation|Children|Comedy|Fantasy</td>\n",
       "      <td>1995</td>\n",
       "    </tr>\n",
       "    <tr>\n",
       "      <th>1</th>\n",
       "      <td>2</td>\n",
       "      <td>Jumanji (1995)</td>\n",
       "      <td>Adventure|Children|Fantasy</td>\n",
       "      <td>1995</td>\n",
       "    </tr>\n",
       "    <tr>\n",
       "      <th>2</th>\n",
       "      <td>3</td>\n",
       "      <td>Grumpier Old Men (1995)</td>\n",
       "      <td>Comedy|Romance</td>\n",
       "      <td>1995</td>\n",
       "    </tr>\n",
       "    <tr>\n",
       "      <th>3</th>\n",
       "      <td>4</td>\n",
       "      <td>Waiting to Exhale (1995)</td>\n",
       "      <td>Comedy|Drama|Romance</td>\n",
       "      <td>1995</td>\n",
       "    </tr>\n",
       "    <tr>\n",
       "      <th>4</th>\n",
       "      <td>5</td>\n",
       "      <td>Father of the Bride Part II (1995)</td>\n",
       "      <td>Comedy</td>\n",
       "      <td>1995</td>\n",
       "    </tr>\n",
       "  </tbody>\n",
       "</table>\n",
       "</div>"
      ],
      "text/plain": [
       "   movieId                               title  \\\n",
       "0        1                    Toy Story (1995)   \n",
       "1        2                      Jumanji (1995)   \n",
       "2        3             Grumpier Old Men (1995)   \n",
       "3        4            Waiting to Exhale (1995)   \n",
       "4        5  Father of the Bride Part II (1995)   \n",
       "\n",
       "                                        genres  year  \n",
       "0  Adventure|Animation|Children|Comedy|Fantasy  1995  \n",
       "1                   Adventure|Children|Fantasy  1995  \n",
       "2                               Comedy|Romance  1995  \n",
       "3                         Comedy|Drama|Romance  1995  \n",
       "4                                       Comedy  1995  "
      ]
     },
     "execution_count": 11,
     "metadata": {},
     "output_type": "execute_result"
    }
   ],
   "source": [
    "# Extracting the year of movie release\n",
    "movies['year'] = movies['title'].str.extract('.*\\((.*)\\).*', expand=True)\n",
    "movies.head()"
   ]
  },
  {
   "cell_type": "code",
   "execution_count": 12,
   "metadata": {},
   "outputs": [
    {
     "name": "stdout",
     "output_type": "stream",
     "text": [
      "Number of missing values: 17\n"
     ]
    }
   ],
   "source": [
    "print \"Number of missing values:\", movies['year'].isna().sum()"
   ]
  },
  {
   "cell_type": "code",
   "execution_count": 13,
   "metadata": {},
   "outputs": [],
   "source": [
    "movies = movies.dropna(how='any')"
   ]
  },
  {
   "cell_type": "code",
   "execution_count": 14,
   "metadata": {},
   "outputs": [
    {
     "name": "stdout",
     "output_type": "stream",
     "text": [
      "Number of missing values: 0\n"
     ]
    }
   ],
   "source": [
    "print \"Number of missing values:\", movies['year'].isna().sum()"
   ]
  },
  {
   "cell_type": "code",
   "execution_count": 15,
   "metadata": {},
   "outputs": [
    {
     "data": {
      "text/html": [
       "<div>\n",
       "<style scoped>\n",
       "    .dataframe tbody tr th:only-of-type {\n",
       "        vertical-align: middle;\n",
       "    }\n",
       "\n",
       "    .dataframe tbody tr th {\n",
       "        vertical-align: top;\n",
       "    }\n",
       "\n",
       "    .dataframe thead th {\n",
       "        text-align: right;\n",
       "    }\n",
       "</style>\n",
       "<table border=\"1\" class=\"dataframe\">\n",
       "  <thead>\n",
       "    <tr style=\"text-align: right;\">\n",
       "      <th></th>\n",
       "      <th>movieId</th>\n",
       "      <th>imdbId</th>\n",
       "      <th>tmdbId</th>\n",
       "    </tr>\n",
       "  </thead>\n",
       "  <tbody>\n",
       "    <tr>\n",
       "      <th>0</th>\n",
       "      <td>1</td>\n",
       "      <td>114709</td>\n",
       "      <td>862.0</td>\n",
       "    </tr>\n",
       "    <tr>\n",
       "      <th>1</th>\n",
       "      <td>2</td>\n",
       "      <td>113497</td>\n",
       "      <td>8844.0</td>\n",
       "    </tr>\n",
       "    <tr>\n",
       "      <th>2</th>\n",
       "      <td>3</td>\n",
       "      <td>113228</td>\n",
       "      <td>15602.0</td>\n",
       "    </tr>\n",
       "    <tr>\n",
       "      <th>3</th>\n",
       "      <td>4</td>\n",
       "      <td>114885</td>\n",
       "      <td>31357.0</td>\n",
       "    </tr>\n",
       "    <tr>\n",
       "      <th>4</th>\n",
       "      <td>5</td>\n",
       "      <td>113041</td>\n",
       "      <td>11862.0</td>\n",
       "    </tr>\n",
       "  </tbody>\n",
       "</table>\n",
       "</div>"
      ],
      "text/plain": [
       "   movieId  imdbId   tmdbId\n",
       "0        1  114709    862.0\n",
       "1        2  113497   8844.0\n",
       "2        3  113228  15602.0\n",
       "3        4  114885  31357.0\n",
       "4        5  113041  11862.0"
      ]
     },
     "execution_count": 15,
     "metadata": {},
     "output_type": "execute_result"
    }
   ],
   "source": [
    "links.head()"
   ]
  },
  {
   "cell_type": "code",
   "execution_count": 16,
   "metadata": {},
   "outputs": [
    {
     "data": {
      "text/html": [
       "<div>\n",
       "<style scoped>\n",
       "    .dataframe tbody tr th:only-of-type {\n",
       "        vertical-align: middle;\n",
       "    }\n",
       "\n",
       "    .dataframe tbody tr th {\n",
       "        vertical-align: top;\n",
       "    }\n",
       "\n",
       "    .dataframe thead th {\n",
       "        text-align: right;\n",
       "    }\n",
       "</style>\n",
       "<table border=\"1\" class=\"dataframe\">\n",
       "  <thead>\n",
       "    <tr style=\"text-align: right;\">\n",
       "      <th></th>\n",
       "      <th>movieId</th>\n",
       "      <th>tagId</th>\n",
       "      <th>relevance</th>\n",
       "    </tr>\n",
       "  </thead>\n",
       "  <tbody>\n",
       "    <tr>\n",
       "      <th>0</th>\n",
       "      <td>1</td>\n",
       "      <td>1</td>\n",
       "      <td>0.02500</td>\n",
       "    </tr>\n",
       "    <tr>\n",
       "      <th>1</th>\n",
       "      <td>1</td>\n",
       "      <td>2</td>\n",
       "      <td>0.02500</td>\n",
       "    </tr>\n",
       "    <tr>\n",
       "      <th>2</th>\n",
       "      <td>1</td>\n",
       "      <td>3</td>\n",
       "      <td>0.05775</td>\n",
       "    </tr>\n",
       "    <tr>\n",
       "      <th>3</th>\n",
       "      <td>1</td>\n",
       "      <td>4</td>\n",
       "      <td>0.09675</td>\n",
       "    </tr>\n",
       "    <tr>\n",
       "      <th>4</th>\n",
       "      <td>1</td>\n",
       "      <td>5</td>\n",
       "      <td>0.14675</td>\n",
       "    </tr>\n",
       "  </tbody>\n",
       "</table>\n",
       "</div>"
      ],
      "text/plain": [
       "   movieId  tagId  relevance\n",
       "0        1      1    0.02500\n",
       "1        1      2    0.02500\n",
       "2        1      3    0.05775\n",
       "3        1      4    0.09675\n",
       "4        1      5    0.14675"
      ]
     },
     "execution_count": 16,
     "metadata": {},
     "output_type": "execute_result"
    }
   ],
   "source": [
    "scores.head()"
   ]
  },
  {
   "cell_type": "code",
   "execution_count": 17,
   "metadata": {},
   "outputs": [
    {
     "data": {
      "text/html": [
       "<div>\n",
       "<style scoped>\n",
       "    .dataframe tbody tr th:only-of-type {\n",
       "        vertical-align: middle;\n",
       "    }\n",
       "\n",
       "    .dataframe tbody tr th {\n",
       "        vertical-align: top;\n",
       "    }\n",
       "\n",
       "    .dataframe thead th {\n",
       "        text-align: right;\n",
       "    }\n",
       "</style>\n",
       "<table border=\"1\" class=\"dataframe\">\n",
       "  <thead>\n",
       "    <tr style=\"text-align: right;\">\n",
       "      <th></th>\n",
       "      <th>userId</th>\n",
       "      <th>movieId</th>\n",
       "      <th>tag</th>\n",
       "    </tr>\n",
       "  </thead>\n",
       "  <tbody>\n",
       "    <tr>\n",
       "      <th>0</th>\n",
       "      <td>18</td>\n",
       "      <td>4141</td>\n",
       "      <td>Mark Waters</td>\n",
       "    </tr>\n",
       "    <tr>\n",
       "      <th>1</th>\n",
       "      <td>65</td>\n",
       "      <td>208</td>\n",
       "      <td>dark hero</td>\n",
       "    </tr>\n",
       "    <tr>\n",
       "      <th>2</th>\n",
       "      <td>65</td>\n",
       "      <td>353</td>\n",
       "      <td>dark hero</td>\n",
       "    </tr>\n",
       "    <tr>\n",
       "      <th>3</th>\n",
       "      <td>65</td>\n",
       "      <td>521</td>\n",
       "      <td>noir thriller</td>\n",
       "    </tr>\n",
       "    <tr>\n",
       "      <th>4</th>\n",
       "      <td>65</td>\n",
       "      <td>592</td>\n",
       "      <td>dark hero</td>\n",
       "    </tr>\n",
       "  </tbody>\n",
       "</table>\n",
       "</div>"
      ],
      "text/plain": [
       "   userId  movieId            tag\n",
       "0      18     4141    Mark Waters\n",
       "1      65      208      dark hero\n",
       "2      65      353      dark hero\n",
       "3      65      521  noir thriller\n",
       "4      65      592      dark hero"
      ]
     },
     "execution_count": 17,
     "metadata": {},
     "output_type": "execute_result"
    }
   ],
   "source": [
    "tags = tags.drop(['timestamp'], axis=1)\n",
    "tags.head()"
   ]
  },
  {
   "cell_type": "code",
   "execution_count": 18,
   "metadata": {},
   "outputs": [
    {
     "data": {
      "text/html": [
       "<div>\n",
       "<style scoped>\n",
       "    .dataframe tbody tr th:only-of-type {\n",
       "        vertical-align: middle;\n",
       "    }\n",
       "\n",
       "    .dataframe tbody tr th {\n",
       "        vertical-align: top;\n",
       "    }\n",
       "\n",
       "    .dataframe thead th {\n",
       "        text-align: right;\n",
       "    }\n",
       "</style>\n",
       "<table border=\"1\" class=\"dataframe\">\n",
       "  <thead>\n",
       "    <tr style=\"text-align: right;\">\n",
       "      <th></th>\n",
       "      <th>tagId</th>\n",
       "      <th>tag</th>\n",
       "    </tr>\n",
       "  </thead>\n",
       "  <tbody>\n",
       "    <tr>\n",
       "      <th>0</th>\n",
       "      <td>1</td>\n",
       "      <td>007</td>\n",
       "    </tr>\n",
       "    <tr>\n",
       "      <th>1</th>\n",
       "      <td>2</td>\n",
       "      <td>007 (series)</td>\n",
       "    </tr>\n",
       "    <tr>\n",
       "      <th>2</th>\n",
       "      <td>3</td>\n",
       "      <td>18th century</td>\n",
       "    </tr>\n",
       "    <tr>\n",
       "      <th>3</th>\n",
       "      <td>4</td>\n",
       "      <td>1920s</td>\n",
       "    </tr>\n",
       "    <tr>\n",
       "      <th>4</th>\n",
       "      <td>5</td>\n",
       "      <td>1930s</td>\n",
       "    </tr>\n",
       "  </tbody>\n",
       "</table>\n",
       "</div>"
      ],
      "text/plain": [
       "   tagId           tag\n",
       "0      1           007\n",
       "1      2  007 (series)\n",
       "2      3  18th century\n",
       "3      4         1920s\n",
       "4      5         1930s"
      ]
     },
     "execution_count": 18,
     "metadata": {},
     "output_type": "execute_result"
    }
   ],
   "source": [
    "gnometags.head()"
   ]
  },
  {
   "cell_type": "markdown",
   "metadata": {},
   "source": [
    "### Data Visualization"
   ]
  },
  {
   "cell_type": "code",
   "execution_count": 19,
   "metadata": {},
   "outputs": [
    {
     "data": {
      "text/plain": [
       "<matplotlib.axes._subplots.AxesSubplot at 0x1b939860>"
      ]
     },
     "execution_count": 19,
     "metadata": {},
     "output_type": "execute_result"
    },
    {
     "data": {
      "image/png": "[encoded data removed]",
      "text/plain": [
       "<Figure size 432x288 with 1 Axes>"
      ]
     },
     "metadata": {
      "needs_background": "light"
     },
     "output_type": "display_data"
    }
   ],
   "source": [
    "sns.countplot(x=ratings.rating, data=ratings)"
   ]
  },
  {
   "cell_type": "code",
   "execution_count": 20,
   "metadata": {},
   "outputs": [
    {
     "data": {
      "text/plain": [
       "rating    AxesSubplot(0.125,0.125;0.775x0.755)\n",
       "dtype: object"
      ]
     },
     "execution_count": 20,
     "metadata": {},
     "output_type": "execute_result"
    },
    {
     "data": {
      "image/png": "[encoded data removed]",
      "text/plain": [
       "<Figure size 432x288 with 1 Axes>"
      ]
     },
     "metadata": {
      "needs_background": "light"
     },
     "output_type": "display_data"
    }
   ],
   "source": [
    "ratings['rating'].plot(kind='box', subplots=True)"
   ]
  },
  {
   "cell_type": "code",
   "execution_count": 21,
   "metadata": {},
   "outputs": [
    {
     "data": {
      "text/plain": [
       "array([[<matplotlib.axes._subplots.AxesSubplot object at 0x000000001BB484E0>]],\n",
       "      dtype=object)"
      ]
     },
     "execution_count": 21,
     "metadata": {},
     "output_type": "execute_result"
    },
    {
     "data": {
      "image/png": "[encoded data removed]",
      "text/plain": [
       "<Figure size 720x360 with 1 Axes>"
      ]
     },
     "metadata": {
      "needs_background": "light"
     },
     "output_type": "display_data"
    }
   ],
   "source": [
    "%matplotlib inline\n",
    "ratings.hist(column='rating', figsize=(10,5))"
   ]
  },
  {
   "cell_type": "code",
   "execution_count": 22,
   "metadata": {},
   "outputs": [
    {
     "data": {
      "text/html": [
       "<div>\n",
       "<style scoped>\n",
       "    .dataframe tbody tr th:only-of-type {\n",
       "        vertical-align: middle;\n",
       "    }\n",
       "\n",
       "    .dataframe tbody tr th {\n",
       "        vertical-align: top;\n",
       "    }\n",
       "\n",
       "    .dataframe thead th {\n",
       "        text-align: right;\n",
       "    }\n",
       "</style>\n",
       "<table border=\"1\" class=\"dataframe\">\n",
       "  <thead>\n",
       "    <tr style=\"text-align: right;\">\n",
       "      <th></th>\n",
       "      <th>movieId</th>\n",
       "      <th>title</th>\n",
       "      <th>genres</th>\n",
       "      <th>year</th>\n",
       "      <th>userId</th>\n",
       "      <th>rating</th>\n",
       "    </tr>\n",
       "  </thead>\n",
       "  <tbody>\n",
       "    <tr>\n",
       "      <th>0</th>\n",
       "      <td>1</td>\n",
       "      <td>Toy Story (1995)</td>\n",
       "      <td>Adventure|Animation|Children|Comedy|Fantasy</td>\n",
       "      <td>1995</td>\n",
       "      <td>3</td>\n",
       "      <td>4.0</td>\n",
       "    </tr>\n",
       "    <tr>\n",
       "      <th>1</th>\n",
       "      <td>1</td>\n",
       "      <td>Toy Story (1995)</td>\n",
       "      <td>Adventure|Animation|Children|Comedy|Fantasy</td>\n",
       "      <td>1995</td>\n",
       "      <td>6</td>\n",
       "      <td>5.0</td>\n",
       "    </tr>\n",
       "    <tr>\n",
       "      <th>2</th>\n",
       "      <td>1</td>\n",
       "      <td>Toy Story (1995)</td>\n",
       "      <td>Adventure|Animation|Children|Comedy|Fantasy</td>\n",
       "      <td>1995</td>\n",
       "      <td>8</td>\n",
       "      <td>4.0</td>\n",
       "    </tr>\n",
       "    <tr>\n",
       "      <th>3</th>\n",
       "      <td>1</td>\n",
       "      <td>Toy Story (1995)</td>\n",
       "      <td>Adventure|Animation|Children|Comedy|Fantasy</td>\n",
       "      <td>1995</td>\n",
       "      <td>10</td>\n",
       "      <td>4.0</td>\n",
       "    </tr>\n",
       "    <tr>\n",
       "      <th>4</th>\n",
       "      <td>1</td>\n",
       "      <td>Toy Story (1995)</td>\n",
       "      <td>Adventure|Animation|Children|Comedy|Fantasy</td>\n",
       "      <td>1995</td>\n",
       "      <td>11</td>\n",
       "      <td>4.5</td>\n",
       "    </tr>\n",
       "  </tbody>\n",
       "</table>\n",
       "</div>"
      ],
      "text/plain": [
       "   movieId             title                                       genres  \\\n",
       "0        1  Toy Story (1995)  Adventure|Animation|Children|Comedy|Fantasy   \n",
       "1        1  Toy Story (1995)  Adventure|Animation|Children|Comedy|Fantasy   \n",
       "2        1  Toy Story (1995)  Adventure|Animation|Children|Comedy|Fantasy   \n",
       "3        1  Toy Story (1995)  Adventure|Animation|Children|Comedy|Fantasy   \n",
       "4        1  Toy Story (1995)  Adventure|Animation|Children|Comedy|Fantasy   \n",
       "\n",
       "   year  userId  rating  \n",
       "0  1995       3     4.0  \n",
       "1  1995       6     5.0  \n",
       "2  1995       8     4.0  \n",
       "3  1995      10     4.0  \n",
       "4  1995      11     4.5  "
      ]
     },
     "execution_count": 22,
     "metadata": {},
     "output_type": "execute_result"
    }
   ],
   "source": [
    "# Combining the movies and ratings dataframe\n",
    "combined = pd.merge(movies, ratings)\n",
    "combined.head()"
   ]
  },
  {
   "cell_type": "code",
   "execution_count": 23,
   "metadata": {},
   "outputs": [
    {
     "name": "stdout",
     "output_type": "stream",
     "text": [
      "Dimensions of dataframe: (20000177, 5)\n"
     ]
    }
   ],
   "source": [
    "combined = combined.drop(['genres'], axis=1)\n",
    "print \"Dimensions of dataframe:\", combined.shape"
   ]
  },
  {
   "cell_type": "markdown",
   "metadata": {},
   "source": [
    "#### Once the data is cleaned, we split the data into training set and test set to prepare it for our machine learning model in a suitable proportion."
   ]
  },
  {
   "cell_type": "code",
   "execution_count": 24,
   "metadata": {},
   "outputs": [],
   "source": [
    "# Splitting dataset into training set and test set\n",
    "from sklearn.model_selection import train_test_split\n",
    "train, test = train_test_split(combined, test_size=0.25)"
   ]
  },
  {
   "cell_type": "code",
   "execution_count": 25,
   "metadata": {},
   "outputs": [
    {
     "name": "stdout",
     "output_type": "stream",
     "text": [
      "Dimensions of training set: (15000132, 5)\n",
      "Dimensions of test set: (5000045, 5)\n"
     ]
    }
   ],
   "source": [
    "print \"Dimensions of training set:\", train.shape \n",
    "print \"Dimensions of test set:\", test.shape"
   ]
  },
  {
   "cell_type": "code",
   "execution_count": 26,
   "metadata": {},
   "outputs": [
    {
     "data": {
      "text/plain": [
       "movieId      int64\n",
       "title       object\n",
       "year        object\n",
       "userId       int64\n",
       "rating     float64\n",
       "dtype: object"
      ]
     },
     "execution_count": 26,
     "metadata": {},
     "output_type": "execute_result"
    }
   ],
   "source": [
    "train.dtypes"
   ]
  },
  {
   "cell_type": "code",
   "execution_count": 27,
   "metadata": {},
   "outputs": [
    {
     "name": "stdout",
     "output_type": "stream",
     "text": [
      "This non-commercial license of GraphLab Create for academic use is assigned to shreayan_sameer@srmuniv.edu.in and will expire on February 07, 2020.\n"
     ]
    },
    {
     "name": "stderr",
     "output_type": "stream",
     "text": [
      "[INFO] graphlab.cython.cy_server: GraphLab Create v2.1 started. Logging: C:\\Users\\shrea\\AppData\\Local\\Temp\\graphlab_server_1549562443.log.0\n"
     ]
    }
   ],
   "source": [
    "train_data = graphlab.SFrame(train)\n",
    "test_data = graphlab.SFrame(test)"
   ]
  },
  {
   "cell_type": "markdown",
   "metadata": {},
   "source": [
    "## Simple Popularity Model (recommendations based on popular choices)¶"
   ]
  },
  {
   "cell_type": "markdown",
   "metadata": {},
   "source": [
    "##### Creating an object of the simple popularity model from the graphlab library on the training set. Simple popularity method is an algorithm that will make recommendations based on its popularity or ratings given to that object from various users. It is based completely upon the object ratings."
   ]
  },
  {
   "cell_type": "code",
   "execution_count": 28,
   "metadata": {},
   "outputs": [
    {
     "data": {
      "text/html": [
       "<pre>Recsys training: model = popularity</pre>"
      ],
      "text/plain": [
       "Recsys training: model = popularity"
      ]
     },
     "metadata": {},
     "output_type": "display_data"
    },
    {
     "data": {
      "text/html": [
       "<pre>Warning: Ignoring columns title, year;</pre>"
      ],
      "text/plain": [
       "Warning: Ignoring columns title, year;"
      ]
     },
     "metadata": {},
     "output_type": "display_data"
    },
    {
     "data": {
      "text/html": [
       "<pre>    To use these columns in scoring predictions, use a model that allows the use of additional features.</pre>"
      ],
      "text/plain": [
       "    To use these columns in scoring predictions, use a model that allows the use of additional features."
      ]
     },
     "metadata": {},
     "output_type": "display_data"
    },
    {
     "data": {
      "text/html": [
       "<pre>Preparing data set.</pre>"
      ],
      "text/plain": [
       "Preparing data set."
      ]
     },
     "metadata": {},
     "output_type": "display_data"
    },
    {
     "data": {
      "text/html": [
       "<pre>    Data has 15000132 observations with 138493 users and 25613 items.</pre>"
      ],
      "text/plain": [
       "    Data has 15000132 observations with 138493 users and 25613 items."
      ]
     },
     "metadata": {},
     "output_type": "display_data"
    },
    {
     "data": {
      "text/html": [
       "<pre>    Data prepared in: 14.3s</pre>"
      ],
      "text/plain": [
       "    Data prepared in: 14.3s"
      ]
     },
     "metadata": {},
     "output_type": "display_data"
    },
    {
     "data": {
      "text/html": [
       "<pre>15000132 observations to process; with 25613 unique items.</pre>"
      ],
      "text/plain": [
       "15000132 observations to process; with 25613 unique items."
      ]
     },
     "metadata": {},
     "output_type": "display_data"
    }
   ],
   "source": [
    "# Simple Popularity Model (recommendations based on popular choices)\n",
    "pop_model = graphlab.popularity_recommender.create(train_data, user_id = 'userId', item_id = 'movieId', target = 'rating')"
   ]
  },
  {
   "cell_type": "code",
   "execution_count": 29,
   "metadata": {},
   "outputs": [
    {
     "name": "stdout",
     "output_type": "stream",
     "text": [
      "+--------+---------+-------+------+\n",
      "| userId | movieId | score | rank |\n",
      "+--------+---------+-------+------+\n",
      "|   1    |  103871 |  5.0  |  1   |\n",
      "|   1    |  130374 |  5.0  |  2   |\n",
      "|   1    |  106113 |  5.0  |  3   |\n",
      "|   1    |  126945 |  5.0  |  4   |\n",
      "|   1    |  118338 |  5.0  |  5   |\n",
      "|   2    |  103871 |  5.0  |  1   |\n",
      "|   2    |  130374 |  5.0  |  2   |\n",
      "|   2    |  106113 |  5.0  |  3   |\n",
      "|   2    |  126945 |  5.0  |  4   |\n",
      "|   2    |  118338 |  5.0  |  5   |\n",
      "|   3    |  103871 |  5.0  |  1   |\n",
      "|   3    |  130374 |  5.0  |  2   |\n",
      "|   3    |  106113 |  5.0  |  3   |\n",
      "|   3    |  126945 |  5.0  |  4   |\n",
      "|   3    |  118338 |  5.0  |  5   |\n",
      "|   4    |  103871 |  5.0  |  1   |\n",
      "|   4    |  130374 |  5.0  |  2   |\n",
      "|   4    |  106113 |  5.0  |  3   |\n",
      "|   4    |  126945 |  5.0  |  4   |\n",
      "|   4    |  118338 |  5.0  |  5   |\n",
      "|   5    |  103871 |  5.0  |  1   |\n",
      "|   5    |  130374 |  5.0  |  2   |\n",
      "|   5    |  106113 |  5.0  |  3   |\n",
      "|   5    |  126945 |  5.0  |  4   |\n",
      "|   5    |  118338 |  5.0  |  5   |\n",
      "+--------+---------+-------+------+\n",
      "[25 rows x 4 columns]\n",
      "\n"
     ]
    }
   ],
   "source": [
    "# Getting recommendations for the first 5 users\n",
    "pop_recommend = pop_model.recommend(users = range(1,6),k = 5)\n",
    "pop_recommend.print_rows(num_rows = 25)"
   ]
  },
  {
   "cell_type": "markdown",
   "metadata": {},
   "source": [
    "## Collaborative Filtering Model (recommendations based on personalized choices)"
   ]
  },
  {
   "cell_type": "markdown",
   "metadata": {},
   "source": [
    "#### Creating an object of the collaborative filtering model from the graphlab library on the training set. Collaborative filtering algorithm is a personalized algorithm which takes in account what movies users watch after a particular movie which is generally of the same genre. The collaborative filtering algorithm predicts what a user likes based on what other similar users like. It is one of the most popular recommender system algorithm."
   ]
  },
  {
   "cell_type": "code",
   "execution_count": 30,
   "metadata": {},
   "outputs": [
    {
     "data": {
      "text/html": [
       "<pre>Recsys training: model = item_similarity</pre>"
      ],
      "text/plain": [
       "Recsys training: model = item_similarity"
      ]
     },
     "metadata": {},
     "output_type": "display_data"
    },
    {
     "data": {
      "text/html": [
       "<pre>Warning: Ignoring columns title, year;</pre>"
      ],
      "text/plain": [
       "Warning: Ignoring columns title, year;"
      ]
     },
     "metadata": {},
     "output_type": "display_data"
    },
    {
     "data": {
      "text/html": [
       "<pre>    To use these columns in scoring predictions, use a model that allows the use of additional features.</pre>"
      ],
      "text/plain": [
       "    To use these columns in scoring predictions, use a model that allows the use of additional features."
      ]
     },
     "metadata": {},
     "output_type": "display_data"
    },
    {
     "data": {
      "text/html": [
       "<pre>Preparing data set.</pre>"
      ],
      "text/plain": [
       "Preparing data set."
      ]
     },
     "metadata": {},
     "output_type": "display_data"
    },
    {
     "data": {
      "text/html": [
       "<pre>    Data has 15000132 observations with 138493 users and 25613 items.</pre>"
      ],
      "text/plain": [
       "    Data has 15000132 observations with 138493 users and 25613 items."
      ]
     },
     "metadata": {},
     "output_type": "display_data"
    },
    {
     "data": {
      "text/html": [
       "<pre>    Data prepared in: 14.3528s</pre>"
      ],
      "text/plain": [
       "    Data prepared in: 14.3528s"
      ]
     },
     "metadata": {},
     "output_type": "display_data"
    },
    {
     "data": {
      "text/html": [
       "<pre>Training model from provided data.</pre>"
      ],
      "text/plain": [
       "Training model from provided data."
      ]
     },
     "metadata": {},
     "output_type": "display_data"
    },
    {
     "data": {
      "text/html": [
       "<pre>Gathering per-item and per-user statistics.</pre>"
      ],
      "text/plain": [
       "Gathering per-item and per-user statistics."
      ]
     },
     "metadata": {},
     "output_type": "display_data"
    },
    {
     "data": {
      "text/html": [
       "<pre>+--------------------------------+------------+</pre>"
      ],
      "text/plain": [
       "+--------------------------------+------------+"
      ]
     },
     "metadata": {},
     "output_type": "display_data"
    },
    {
     "data": {
      "text/html": [
       "<pre>| Elapsed Time (Item Statistics) | % Complete |</pre>"
      ],
      "text/plain": [
       "| Elapsed Time (Item Statistics) | % Complete |"
      ]
     },
     "metadata": {},
     "output_type": "display_data"
    },
    {
     "data": {
      "text/html": [
       "<pre>+--------------------------------+------------+</pre>"
      ],
      "text/plain": [
       "+--------------------------------+------------+"
      ]
     },
     "metadata": {},
     "output_type": "display_data"
    },
    {
     "data": {
      "text/html": [
       "<pre>| 12.929ms                       | 0.5        |</pre>"
      ],
      "text/plain": [
       "| 12.929ms                       | 0.5        |"
      ]
     },
     "metadata": {},
     "output_type": "display_data"
    },
    {
     "data": {
      "text/html": [
       "<pre>| 452.792ms                      | 100        |</pre>"
      ],
      "text/plain": [
       "| 452.792ms                      | 100        |"
      ]
     },
     "metadata": {},
     "output_type": "display_data"
    },
    {
     "data": {
      "text/html": [
       "<pre>+--------------------------------+------------+</pre>"
      ],
      "text/plain": [
       "+--------------------------------+------------+"
      ]
     },
     "metadata": {},
     "output_type": "display_data"
    },
    {
     "data": {
      "text/html": [
       "<pre>Setting up lookup tables.</pre>"
      ],
      "text/plain": [
       "Setting up lookup tables."
      ]
     },
     "metadata": {},
     "output_type": "display_data"
    },
    {
     "data": {
      "text/html": [
       "<pre>Processing data in one pass using dense lookup tables.</pre>"
      ],
      "text/plain": [
       "Processing data in one pass using dense lookup tables."
      ]
     },
     "metadata": {},
     "output_type": "display_data"
    },
    {
     "data": {
      "text/html": [
       "<pre>+-------------------------------------+------------------+-----------------+</pre>"
      ],
      "text/plain": [
       "+-------------------------------------+------------------+-----------------+"
      ]
     },
     "metadata": {},
     "output_type": "display_data"
    },
    {
     "data": {
      "text/html": [
       "<pre>| Elapsed Time (Constructing Lookups) | Total % Complete | Items Processed |</pre>"
      ],
      "text/plain": [
       "| Elapsed Time (Constructing Lookups) | Total % Complete | Items Processed |"
      ]
     },
     "metadata": {},
     "output_type": "display_data"
    },
    {
     "data": {
      "text/html": [
       "<pre>+-------------------------------------+------------------+-----------------+</pre>"
      ],
      "text/plain": [
       "+-------------------------------------+------------------+-----------------+"
      ]
     },
     "metadata": {},
     "output_type": "display_data"
    },
    {
     "data": {
      "text/html": [
       "<pre>| 1.76s                               | 0                | 0               |</pre>"
      ],
      "text/plain": [
       "| 1.76s                               | 0                | 0               |"
      ]
     },
     "metadata": {},
     "output_type": "display_data"
    },
    {
     "data": {
      "text/html": [
       "<pre>| 2.77s                               | 1                | 281             |</pre>"
      ],
      "text/plain": [
       "| 2.77s                               | 1                | 281             |"
      ]
     },
     "metadata": {},
     "output_type": "display_data"
    },
    {
     "data": {
      "text/html": [
       "<pre>| 3.77s                               | 2                | 530             |</pre>"
      ],
      "text/plain": [
       "| 3.77s                               | 2                | 530             |"
      ]
     },
     "metadata": {},
     "output_type": "display_data"
    },
    {
     "data": {
      "text/html": [
       "<pre>| 4.80s                               | 3                | 804             |</pre>"
      ],
      "text/plain": [
       "| 4.80s                               | 3                | 804             |"
      ]
     },
     "metadata": {},
     "output_type": "display_data"
    },
    {
     "data": {
      "text/html": [
       "<pre>| 5.77s                               | 4.25             | 1101            |</pre>"
      ],
      "text/plain": [
       "| 5.77s                               | 4.25             | 1101            |"
      ]
     },
     "metadata": {},
     "output_type": "display_data"
    },
    {
     "data": {
      "text/html": [
       "<pre>| 6.76s                               | 5.25             | 1361            |</pre>"
      ],
      "text/plain": [
       "| 6.76s                               | 5.25             | 1361            |"
      ]
     },
     "metadata": {},
     "output_type": "display_data"
    },
    {
     "data": {
      "text/html": [
       "<pre>| 7.77s                               | 6.75             | 1752            |</pre>"
      ],
      "text/plain": [
       "| 7.77s                               | 6.75             | 1752            |"
      ]
     },
     "metadata": {},
     "output_type": "display_data"
    },
    {
     "data": {
      "text/html": [
       "<pre>| 8.76s                               | 7.75             | 2030            |</pre>"
      ],
      "text/plain": [
       "| 8.76s                               | 7.75             | 2030            |"
      ]
     },
     "metadata": {},
     "output_type": "display_data"
    },
    {
     "data": {
      "text/html": [
       "<pre>| 9.76s                               | 9                | 2329            |</pre>"
      ],
      "text/plain": [
       "| 9.76s                               | 9                | 2329            |"
      ]
     },
     "metadata": {},
     "output_type": "display_data"
    },
    {
     "data": {
      "text/html": [
       "<pre>| 10.76s                              | 10.25            | 2640            |</pre>"
      ],
      "text/plain": [
       "| 10.76s                              | 10.25            | 2640            |"
      ]
     },
     "metadata": {},
     "output_type": "display_data"
    },
    {
     "data": {
      "text/html": [
       "<pre>| 11.86s                              | 11.25            | 2911            |</pre>"
      ],
      "text/plain": [
       "| 11.86s                              | 11.25            | 2911            |"
      ]
     },
     "metadata": {},
     "output_type": "display_data"
    },
    {
     "data": {
      "text/html": [
       "<pre>| 12.77s                              | 12               | 3080            |</pre>"
      ],
      "text/plain": [
       "| 12.77s                              | 12               | 3080            |"
      ]
     },
     "metadata": {},
     "output_type": "display_data"
    },
    {
     "data": {
      "text/html": [
       "<pre>| 13.76s                              | 13.25            | 3434            |</pre>"
      ],
      "text/plain": [
       "| 13.76s                              | 13.25            | 3434            |"
      ]
     },
     "metadata": {},
     "output_type": "display_data"
    },
    {
     "data": {
      "text/html": [
       "<pre>| 14.80s                              | 14.25            | 3656            |</pre>"
      ],
      "text/plain": [
       "| 14.80s                              | 14.25            | 3656            |"
      ]
     },
     "metadata": {},
     "output_type": "display_data"
    },
    {
     "data": {
      "text/html": [
       "<pre>| 15.77s                              | 14.75            | 3821            |</pre>"
      ],
      "text/plain": [
       "| 15.77s                              | 14.75            | 3821            |"
      ]
     },
     "metadata": {},
     "output_type": "display_data"
    },
    {
     "data": {
      "text/html": [
       "<pre>| 16.76s                              | 16               | 4144            |</pre>"
      ],
      "text/plain": [
       "| 16.76s                              | 16               | 4144            |"
      ]
     },
     "metadata": {},
     "output_type": "display_data"
    },
    {
     "data": {
      "text/html": [
       "<pre>| 17.76s                              | 17.25            | 4442            |</pre>"
      ],
      "text/plain": [
       "| 17.76s                              | 17.25            | 4442            |"
      ]
     },
     "metadata": {},
     "output_type": "display_data"
    },
    {
     "data": {
      "text/html": [
       "<pre>| 18.77s                              | 18               | 4644            |</pre>"
      ],
      "text/plain": [
       "| 18.77s                              | 18               | 4644            |"
      ]
     },
     "metadata": {},
     "output_type": "display_data"
    },
    {
     "data": {
      "text/html": [
       "<pre>| 19.77s                              | 19               | 4913            |</pre>"
      ],
      "text/plain": [
       "| 19.77s                              | 19               | 4913            |"
      ]
     },
     "metadata": {},
     "output_type": "display_data"
    },
    {
     "data": {
      "text/html": [
       "<pre>| 20.77s                              | 20.25            | 5191            |</pre>"
      ],
      "text/plain": [
       "| 20.77s                              | 20.25            | 5191            |"
      ]
     },
     "metadata": {},
     "output_type": "display_data"
    },
    {
     "data": {
      "text/html": [
       "<pre>| 21.77s                              | 21.25            | 5504            |</pre>"
      ],
      "text/plain": [
       "| 21.77s                              | 21.25            | 5504            |"
      ]
     },
     "metadata": {},
     "output_type": "display_data"
    },
    {
     "data": {
      "text/html": [
       "<pre>| 22.76s                              | 22.75            | 5829            |</pre>"
      ],
      "text/plain": [
       "| 22.76s                              | 22.75            | 5829            |"
      ]
     },
     "metadata": {},
     "output_type": "display_data"
    },
    {
     "data": {
      "text/html": [
       "<pre>| 23.77s                              | 23.5             | 6041            |</pre>"
      ],
      "text/plain": [
       "| 23.77s                              | 23.5             | 6041            |"
      ]
     },
     "metadata": {},
     "output_type": "display_data"
    },
    {
     "data": {
      "text/html": [
       "<pre>| 24.77s                              | 24.25            | 6251            |</pre>"
      ],
      "text/plain": [
       "| 24.77s                              | 24.25            | 6251            |"
      ]
     },
     "metadata": {},
     "output_type": "display_data"
    },
    {
     "data": {
      "text/html": [
       "<pre>| 25.77s                              | 25               | 6467            |</pre>"
      ],
      "text/plain": [
       "| 25.77s                              | 25               | 6467            |"
      ]
     },
     "metadata": {},
     "output_type": "display_data"
    },
    {
     "data": {
      "text/html": [
       "<pre>| 26.77s                              | 26               | 6687            |</pre>"
      ],
      "text/plain": [
       "| 26.77s                              | 26               | 6687            |"
      ]
     },
     "metadata": {},
     "output_type": "display_data"
    },
    {
     "data": {
      "text/html": [
       "<pre>| 27.77s                              | 27               | 6962            |</pre>"
      ],
      "text/plain": [
       "| 27.77s                              | 27               | 6962            |"
      ]
     },
     "metadata": {},
     "output_type": "display_data"
    },
    {
     "data": {
      "text/html": [
       "<pre>| 28.77s                              | 27.75            | 7149            |</pre>"
      ],
      "text/plain": [
       "| 28.77s                              | 27.75            | 7149            |"
      ]
     },
     "metadata": {},
     "output_type": "display_data"
    },
    {
     "data": {
      "text/html": [
       "<pre>| 29.77s                              | 28.75            | 7404            |</pre>"
      ],
      "text/plain": [
       "| 29.77s                              | 28.75            | 7404            |"
      ]
     },
     "metadata": {},
     "output_type": "display_data"
    },
    {
     "data": {
      "text/html": [
       "<pre>| 30.78s                              | 29.5             | 7608            |</pre>"
      ],
      "text/plain": [
       "| 30.78s                              | 29.5             | 7608            |"
      ]
     },
     "metadata": {},
     "output_type": "display_data"
    },
    {
     "data": {
      "text/html": [
       "<pre>| 31.77s                              | 30.5             | 7832            |</pre>"
      ],
      "text/plain": [
       "| 31.77s                              | 30.5             | 7832            |"
      ]
     },
     "metadata": {},
     "output_type": "display_data"
    },
    {
     "data": {
      "text/html": [
       "<pre>| 32.77s                              | 31.5             | 8079            |</pre>"
      ],
      "text/plain": [
       "| 32.77s                              | 31.5             | 8079            |"
      ]
     },
     "metadata": {},
     "output_type": "display_data"
    },
    {
     "data": {
      "text/html": [
       "<pre>| 33.77s                              | 32.25            | 8315            |</pre>"
      ],
      "text/plain": [
       "| 33.77s                              | 32.25            | 8315            |"
      ]
     },
     "metadata": {},
     "output_type": "display_data"
    },
    {
     "data": {
      "text/html": [
       "<pre>| 34.79s                              | 33.25            | 8535            |</pre>"
      ],
      "text/plain": [
       "| 34.79s                              | 33.25            | 8535            |"
      ]
     },
     "metadata": {},
     "output_type": "display_data"
    },
    {
     "data": {
      "text/html": [
       "<pre>| 35.77s                              | 34.25            | 8807            |</pre>"
      ],
      "text/plain": [
       "| 35.77s                              | 34.25            | 8807            |"
      ]
     },
     "metadata": {},
     "output_type": "display_data"
    },
    {
     "data": {
      "text/html": [
       "<pre>| 36.79s                              | 35               | 9007            |</pre>"
      ],
      "text/plain": [
       "| 36.79s                              | 35               | 9007            |"
      ]
     },
     "metadata": {},
     "output_type": "display_data"
    },
    {
     "data": {
      "text/html": [
       "<pre>| 37.77s                              | 36               | 9253            |</pre>"
      ],
      "text/plain": [
       "| 37.77s                              | 36               | 9253            |"
      ]
     },
     "metadata": {},
     "output_type": "display_data"
    },
    {
     "data": {
      "text/html": [
       "<pre>| 38.77s                              | 37.25            | 9555            |</pre>"
      ],
      "text/plain": [
       "| 38.77s                              | 37.25            | 9555            |"
      ]
     },
     "metadata": {},
     "output_type": "display_data"
    },
    {
     "data": {
      "text/html": [
       "<pre>| 39.78s                              | 37.75            | 9729            |</pre>"
      ],
      "text/plain": [
       "| 39.78s                              | 37.75            | 9729            |"
      ]
     },
     "metadata": {},
     "output_type": "display_data"
    },
    {
     "data": {
      "text/html": [
       "<pre>| 40.78s                              | 38.75            | 9968            |</pre>"
      ],
      "text/plain": [
       "| 40.78s                              | 38.75            | 9968            |"
      ]
     },
     "metadata": {},
     "output_type": "display_data"
    },
    {
     "data": {
      "text/html": [
       "<pre>| 41.77s                              | 39.5             | 10165           |</pre>"
      ],
      "text/plain": [
       "| 41.77s                              | 39.5             | 10165           |"
      ]
     },
     "metadata": {},
     "output_type": "display_data"
    },
    {
     "data": {
      "text/html": [
       "<pre>| 42.78s                              | 40.25            | 10341           |</pre>"
      ],
      "text/plain": [
       "| 42.78s                              | 40.25            | 10341           |"
      ]
     },
     "metadata": {},
     "output_type": "display_data"
    },
    {
     "data": {
      "text/html": [
       "<pre>| 43.80s                              | 41               | 10514           |</pre>"
      ],
      "text/plain": [
       "| 43.80s                              | 41               | 10514           |"
      ]
     },
     "metadata": {},
     "output_type": "display_data"
    },
    {
     "data": {
      "text/html": [
       "<pre>| 44.77s                              | 41.5             | 10635           |</pre>"
      ],
      "text/plain": [
       "| 44.77s                              | 41.5             | 10635           |"
      ]
     },
     "metadata": {},
     "output_type": "display_data"
    },
    {
     "data": {
      "text/html": [
       "<pre>| 45.77s                              | 42.25            | 10867           |</pre>"
      ],
      "text/plain": [
       "| 45.77s                              | 42.25            | 10867           |"
      ]
     },
     "metadata": {},
     "output_type": "display_data"
    },
    {
     "data": {
      "text/html": [
       "<pre>| 46.77s                              | 43.25            | 11081           |</pre>"
      ],
      "text/plain": [
       "| 46.77s                              | 43.25            | 11081           |"
      ]
     },
     "metadata": {},
     "output_type": "display_data"
    },
    {
     "data": {
      "text/html": [
       "<pre>| 47.78s                              | 44               | 11319           |</pre>"
      ],
      "text/plain": [
       "| 47.78s                              | 44               | 11319           |"
      ]
     },
     "metadata": {},
     "output_type": "display_data"
    },
    {
     "data": {
      "text/html": [
       "<pre>| 48.80s                              | 45               | 11531           |</pre>"
      ],
      "text/plain": [
       "| 48.80s                              | 45               | 11531           |"
      ]
     },
     "metadata": {},
     "output_type": "display_data"
    },
    {
     "data": {
      "text/html": [
       "<pre>| 49.78s                              | 45.5             | 11684           |</pre>"
      ],
      "text/plain": [
       "| 49.78s                              | 45.5             | 11684           |"
      ]
     },
     "metadata": {},
     "output_type": "display_data"
    },
    {
     "data": {
      "text/html": [
       "<pre>| 50.78s                              | 46.25            | 11851           |</pre>"
      ],
      "text/plain": [
       "| 50.78s                              | 46.25            | 11851           |"
      ]
     },
     "metadata": {},
     "output_type": "display_data"
    },
    {
     "data": {
      "text/html": [
       "<pre>| 51.78s                              | 46.75            | 11975           |</pre>"
      ],
      "text/plain": [
       "| 51.78s                              | 46.75            | 11975           |"
      ]
     },
     "metadata": {},
     "output_type": "display_data"
    },
    {
     "data": {
      "text/html": [
       "<pre>| 52.77s                              | 47.25            | 12156           |</pre>"
      ],
      "text/plain": [
       "| 52.77s                              | 47.25            | 12156           |"
      ]
     },
     "metadata": {},
     "output_type": "display_data"
    },
    {
     "data": {
      "text/html": [
       "<pre>| 53.77s                              | 48               | 12330           |</pre>"
      ],
      "text/plain": [
       "| 53.77s                              | 48               | 12330           |"
      ]
     },
     "metadata": {},
     "output_type": "display_data"
    },
    {
     "data": {
      "text/html": [
       "<pre>| 54.79s                              | 48.75            | 12502           |</pre>"
      ],
      "text/plain": [
       "| 54.79s                              | 48.75            | 12502           |"
      ]
     },
     "metadata": {},
     "output_type": "display_data"
    },
    {
     "data": {
      "text/html": [
       "<pre>| 55.77s                              | 49.5             | 12686           |</pre>"
      ],
      "text/plain": [
       "| 55.77s                              | 49.5             | 12686           |"
      ]
     },
     "metadata": {},
     "output_type": "display_data"
    },
    {
     "data": {
      "text/html": [
       "<pre>| 56.80s                              | 50.25            | 12890           |</pre>"
      ],
      "text/plain": [
       "| 56.80s                              | 50.25            | 12890           |"
      ]
     },
     "metadata": {},
     "output_type": "display_data"
    },
    {
     "data": {
      "text/html": [
       "<pre>| 57.78s                              | 51               | 13097           |</pre>"
      ],
      "text/plain": [
       "| 57.78s                              | 51               | 13097           |"
      ]
     },
     "metadata": {},
     "output_type": "display_data"
    },
    {
     "data": {
      "text/html": [
       "<pre>| 58.77s                              | 51.75            | 13315           |</pre>"
      ],
      "text/plain": [
       "| 58.77s                              | 51.75            | 13315           |"
      ]
     },
     "metadata": {},
     "output_type": "display_data"
    },
    {
     "data": {
      "text/html": [
       "<pre>| 59.77s                              | 52.75            | 13527           |</pre>"
      ],
      "text/plain": [
       "| 59.77s                              | 52.75            | 13527           |"
      ]
     },
     "metadata": {},
     "output_type": "display_data"
    },
    {
     "data": {
      "text/html": [
       "<pre>| 1m 0s                               | 53.5             | 13755           |</pre>"
      ],
      "text/plain": [
       "| 1m 0s                               | 53.5             | 13755           |"
      ]
     },
     "metadata": {},
     "output_type": "display_data"
    },
    {
     "data": {
      "text/html": [
       "<pre>| 1m 1s                               | 54.5             | 13978           |</pre>"
      ],
      "text/plain": [
       "| 1m 1s                               | 54.5             | 13978           |"
      ]
     },
     "metadata": {},
     "output_type": "display_data"
    },
    {
     "data": {
      "text/html": [
       "<pre>| 1m 2s                               | 55.25            | 14190           |</pre>"
      ],
      "text/plain": [
       "| 1m 2s                               | 55.25            | 14190           |"
      ]
     },
     "metadata": {},
     "output_type": "display_data"
    },
    {
     "data": {
      "text/html": [
       "<pre>| 1m 3s                               | 56               | 14390           |</pre>"
      ],
      "text/plain": [
       "| 1m 3s                               | 56               | 14390           |"
      ]
     },
     "metadata": {},
     "output_type": "display_data"
    },
    {
     "data": {
      "text/html": [
       "<pre>| 1m 4s                               | 57               | 14622           |</pre>"
      ],
      "text/plain": [
       "| 1m 4s                               | 57               | 14622           |"
      ]
     },
     "metadata": {},
     "output_type": "display_data"
    },
    {
     "data": {
      "text/html": [
       "<pre>| 1m 5s                               | 57.5             | 14728           |</pre>"
      ],
      "text/plain": [
       "| 1m 5s                               | 57.5             | 14728           |"
      ]
     },
     "metadata": {},
     "output_type": "display_data"
    },
    {
     "data": {
      "text/html": [
       "<pre>| 1m 6s                               | 57.75            | 14836           |</pre>"
      ],
      "text/plain": [
       "| 1m 6s                               | 57.75            | 14836           |"
      ]
     },
     "metadata": {},
     "output_type": "display_data"
    },
    {
     "data": {
      "text/html": [
       "<pre>| 1m 7s                               | 58.25            | 14974           |</pre>"
      ],
      "text/plain": [
       "| 1m 7s                               | 58.25            | 14974           |"
      ]
     },
     "metadata": {},
     "output_type": "display_data"
    },
    {
     "data": {
      "text/html": [
       "<pre>| 1m 8s                               | 59               | 15117           |</pre>"
      ],
      "text/plain": [
       "| 1m 8s                               | 59               | 15117           |"
      ]
     },
     "metadata": {},
     "output_type": "display_data"
    },
    {
     "data": {
      "text/html": [
       "<pre>| 1m 9s                               | 59.5             | 15252           |</pre>"
      ],
      "text/plain": [
       "| 1m 9s                               | 59.5             | 15252           |"
      ]
     },
     "metadata": {},
     "output_type": "display_data"
    },
    {
     "data": {
      "text/html": [
       "<pre>| 1m 10s                              | 60.25            | 15467           |</pre>"
      ],
      "text/plain": [
       "| 1m 10s                              | 60.25            | 15467           |"
      ]
     },
     "metadata": {},
     "output_type": "display_data"
    },
    {
     "data": {
      "text/html": [
       "<pre>| 1m 11s                              | 61               | 15673           |</pre>"
      ],
      "text/plain": [
       "| 1m 11s                              | 61               | 15673           |"
      ]
     },
     "metadata": {},
     "output_type": "display_data"
    },
    {
     "data": {
      "text/html": [
       "<pre>| 1m 12s                              | 61.75            | 15836           |</pre>"
      ],
      "text/plain": [
       "| 1m 12s                              | 61.75            | 15836           |"
      ]
     },
     "metadata": {},
     "output_type": "display_data"
    },
    {
     "data": {
      "text/html": [
       "<pre>| 1m 13s                              | 62.5             | 16049           |</pre>"
      ],
      "text/plain": [
       "| 1m 13s                              | 62.5             | 16049           |"
      ]
     },
     "metadata": {},
     "output_type": "display_data"
    },
    {
     "data": {
      "text/html": [
       "<pre>| 1m 14s                              | 63.25            | 16233           |</pre>"
      ],
      "text/plain": [
       "| 1m 14s                              | 63.25            | 16233           |"
      ]
     },
     "metadata": {},
     "output_type": "display_data"
    },
    {
     "data": {
      "text/html": [
       "<pre>| 1m 15s                              | 64               | 16407           |</pre>"
      ],
      "text/plain": [
       "| 1m 15s                              | 64               | 16407           |"
      ]
     },
     "metadata": {},
     "output_type": "display_data"
    },
    {
     "data": {
      "text/html": [
       "<pre>| 1m 16s                              | 64.75            | 16612           |</pre>"
      ],
      "text/plain": [
       "| 1m 16s                              | 64.75            | 16612           |"
      ]
     },
     "metadata": {},
     "output_type": "display_data"
    },
    {
     "data": {
      "text/html": [
       "<pre>| 1m 17s                              | 65.5             | 16797           |</pre>"
      ],
      "text/plain": [
       "| 1m 17s                              | 65.5             | 16797           |"
      ]
     },
     "metadata": {},
     "output_type": "display_data"
    },
    {
     "data": {
      "text/html": [
       "<pre>| 1m 18s                              | 66.25            | 16984           |</pre>"
      ],
      "text/plain": [
       "| 1m 18s                              | 66.25            | 16984           |"
      ]
     },
     "metadata": {},
     "output_type": "display_data"
    },
    {
     "data": {
      "text/html": [
       "<pre>| 1m 19s                              | 67               | 17215           |</pre>"
      ],
      "text/plain": [
       "| 1m 19s                              | 67               | 17215           |"
      ]
     },
     "metadata": {},
     "output_type": "display_data"
    },
    {
     "data": {
      "text/html": [
       "<pre>| 1m 20s                              | 68               | 17473           |</pre>"
      ],
      "text/plain": [
       "| 1m 20s                              | 68               | 17473           |"
      ]
     },
     "metadata": {},
     "output_type": "display_data"
    },
    {
     "data": {
      "text/html": [
       "<pre>| 1m 21s                              | 69               | 17705           |</pre>"
      ],
      "text/plain": [
       "| 1m 21s                              | 69               | 17705           |"
      ]
     },
     "metadata": {},
     "output_type": "display_data"
    },
    {
     "data": {
      "text/html": [
       "<pre>| 1m 22s                              | 70               | 17975           |</pre>"
      ],
      "text/plain": [
       "| 1m 22s                              | 70               | 17975           |"
      ]
     },
     "metadata": {},
     "output_type": "display_data"
    },
    {
     "data": {
      "text/html": [
       "<pre>| 1m 23s                              | 71               | 18207           |</pre>"
      ],
      "text/plain": [
       "| 1m 23s                              | 71               | 18207           |"
      ]
     },
     "metadata": {},
     "output_type": "display_data"
    },
    {
     "data": {
      "text/html": [
       "<pre>| 1m 24s                              | 71.75            | 18431           |</pre>"
      ],
      "text/plain": [
       "| 1m 24s                              | 71.75            | 18431           |"
      ]
     },
     "metadata": {},
     "output_type": "display_data"
    },
    {
     "data": {
      "text/html": [
       "<pre>| 1m 25s                              | 72.75            | 18686           |</pre>"
      ],
      "text/plain": [
       "| 1m 25s                              | 72.75            | 18686           |"
      ]
     },
     "metadata": {},
     "output_type": "display_data"
    },
    {
     "data": {
      "text/html": [
       "<pre>| 1m 26s                              | 73.75            | 18923           |</pre>"
      ],
      "text/plain": [
       "| 1m 26s                              | 73.75            | 18923           |"
      ]
     },
     "metadata": {},
     "output_type": "display_data"
    },
    {
     "data": {
      "text/html": [
       "<pre>| 1m 27s                              | 74.5             | 19142           |</pre>"
      ],
      "text/plain": [
       "| 1m 27s                              | 74.5             | 19142           |"
      ]
     },
     "metadata": {},
     "output_type": "display_data"
    },
    {
     "data": {
      "text/html": [
       "<pre>| 1m 28s                              | 75.5             | 19345           |</pre>"
      ],
      "text/plain": [
       "| 1m 28s                              | 75.5             | 19345           |"
      ]
     },
     "metadata": {},
     "output_type": "display_data"
    },
    {
     "data": {
      "text/html": [
       "<pre>| 1m 29s                              | 76               | 19520           |</pre>"
      ],
      "text/plain": [
       "| 1m 29s                              | 76               | 19520           |"
      ]
     },
     "metadata": {},
     "output_type": "display_data"
    },
    {
     "data": {
      "text/html": [
       "<pre>| 1m 30s                              | 76.75            | 19716           |</pre>"
      ],
      "text/plain": [
       "| 1m 30s                              | 76.75            | 19716           |"
      ]
     },
     "metadata": {},
     "output_type": "display_data"
    },
    {
     "data": {
      "text/html": [
       "<pre>| 1m 31s                              | 77.75            | 19927           |</pre>"
      ],
      "text/plain": [
       "| 1m 31s                              | 77.75            | 19927           |"
      ]
     },
     "metadata": {},
     "output_type": "display_data"
    },
    {
     "data": {
      "text/html": [
       "<pre>| 1m 32s                              | 78.75            | 20185           |</pre>"
      ],
      "text/plain": [
       "| 1m 32s                              | 78.75            | 20185           |"
      ]
     },
     "metadata": {},
     "output_type": "display_data"
    },
    {
     "data": {
      "text/html": [
       "<pre>| 1m 33s                              | 79.75            | 20456           |</pre>"
      ],
      "text/plain": [
       "| 1m 33s                              | 79.75            | 20456           |"
      ]
     },
     "metadata": {},
     "output_type": "display_data"
    },
    {
     "data": {
      "text/html": [
       "<pre>| 1m 34s                              | 80.75            | 20696           |</pre>"
      ],
      "text/plain": [
       "| 1m 34s                              | 80.75            | 20696           |"
      ]
     },
     "metadata": {},
     "output_type": "display_data"
    },
    {
     "data": {
      "text/html": [
       "<pre>| 1m 35s                              | 81.5             | 20931           |</pre>"
      ],
      "text/plain": [
       "| 1m 35s                              | 81.5             | 20931           |"
      ]
     },
     "metadata": {},
     "output_type": "display_data"
    },
    {
     "data": {
      "text/html": [
       "<pre>| 1m 36s                              | 82.5             | 21173           |</pre>"
      ],
      "text/plain": [
       "| 1m 36s                              | 82.5             | 21173           |"
      ]
     },
     "metadata": {},
     "output_type": "display_data"
    },
    {
     "data": {
      "text/html": [
       "<pre>| 1m 37s                              | 83.75            | 21452           |</pre>"
      ],
      "text/plain": [
       "| 1m 37s                              | 83.75            | 21452           |"
      ]
     },
     "metadata": {},
     "output_type": "display_data"
    },
    {
     "data": {
      "text/html": [
       "<pre>| 1m 38s                              | 84.75            | 21729           |</pre>"
      ],
      "text/plain": [
       "| 1m 38s                              | 84.75            | 21729           |"
      ]
     },
     "metadata": {},
     "output_type": "display_data"
    },
    {
     "data": {
      "text/html": [
       "<pre>| 1m 39s                              | 85.5             | 21957           |</pre>"
      ],
      "text/plain": [
       "| 1m 39s                              | 85.5             | 21957           |"
      ]
     },
     "metadata": {},
     "output_type": "display_data"
    },
    {
     "data": {
      "text/html": [
       "<pre>| 1m 40s                              | 86.5             | 22209           |</pre>"
      ],
      "text/plain": [
       "| 1m 40s                              | 86.5             | 22209           |"
      ]
     },
     "metadata": {},
     "output_type": "display_data"
    },
    {
     "data": {
      "text/html": [
       "<pre>| 1m 41s                              | 87.5             | 22470           |</pre>"
      ],
      "text/plain": [
       "| 1m 41s                              | 87.5             | 22470           |"
      ]
     },
     "metadata": {},
     "output_type": "display_data"
    },
    {
     "data": {
      "text/html": [
       "<pre>| 1m 42s                              | 88.75            | 22736           |</pre>"
      ],
      "text/plain": [
       "| 1m 42s                              | 88.75            | 22736           |"
      ]
     },
     "metadata": {},
     "output_type": "display_data"
    },
    {
     "data": {
      "text/html": [
       "<pre>| 1m 43s                              | 89.75            | 23009           |</pre>"
      ],
      "text/plain": [
       "| 1m 43s                              | 89.75            | 23009           |"
      ]
     },
     "metadata": {},
     "output_type": "display_data"
    },
    {
     "data": {
      "text/html": [
       "<pre>| 1m 44s                              | 90.75            | 23248           |</pre>"
      ],
      "text/plain": [
       "| 1m 44s                              | 90.75            | 23248           |"
      ]
     },
     "metadata": {},
     "output_type": "display_data"
    },
    {
     "data": {
      "text/html": [
       "<pre>| 1m 45s                              | 91.75            | 23501           |</pre>"
      ],
      "text/plain": [
       "| 1m 45s                              | 91.75            | 23501           |"
      ]
     },
     "metadata": {},
     "output_type": "display_data"
    },
    {
     "data": {
      "text/html": [
       "<pre>| 1m 46s                              | 92.75            | 23763           |</pre>"
      ],
      "text/plain": [
       "| 1m 46s                              | 92.75            | 23763           |"
      ]
     },
     "metadata": {},
     "output_type": "display_data"
    },
    {
     "data": {
      "text/html": [
       "<pre>| 1m 47s                              | 93.75            | 24022           |</pre>"
      ],
      "text/plain": [
       "| 1m 47s                              | 93.75            | 24022           |"
      ]
     },
     "metadata": {},
     "output_type": "display_data"
    },
    {
     "data": {
      "text/html": [
       "<pre>| 1m 48s                              | 94.75            | 24294           |</pre>"
      ],
      "text/plain": [
       "| 1m 48s                              | 94.75            | 24294           |"
      ]
     },
     "metadata": {},
     "output_type": "display_data"
    },
    {
     "data": {
      "text/html": [
       "<pre>| 1m 49s                              | 95.75            | 24530           |</pre>"
      ],
      "text/plain": [
       "| 1m 49s                              | 95.75            | 24530           |"
      ]
     },
     "metadata": {},
     "output_type": "display_data"
    },
    {
     "data": {
      "text/html": [
       "<pre>| 1m 50s                              | 96.75            | 24786           |</pre>"
      ],
      "text/plain": [
       "| 1m 50s                              | 96.75            | 24786           |"
      ]
     },
     "metadata": {},
     "output_type": "display_data"
    },
    {
     "data": {
      "text/html": [
       "<pre>| 1m 51s                              | 97.5             | 25029           |</pre>"
      ],
      "text/plain": [
       "| 1m 51s                              | 97.5             | 25029           |"
      ]
     },
     "metadata": {},
     "output_type": "display_data"
    },
    {
     "data": {
      "text/html": [
       "<pre>| 1m 52s                              | 98.5             | 25277           |</pre>"
      ],
      "text/plain": [
       "| 1m 52s                              | 98.5             | 25277           |"
      ]
     },
     "metadata": {},
     "output_type": "display_data"
    },
    {
     "data": {
      "text/html": [
       "<pre>| 1m 53s                              | 99.5             | 25521           |</pre>"
      ],
      "text/plain": [
       "| 1m 53s                              | 99.5             | 25521           |"
      ]
     },
     "metadata": {},
     "output_type": "display_data"
    },
    {
     "data": {
      "text/html": [
       "<pre>| 2m 1s                               | 100              | 25613           |</pre>"
      ],
      "text/plain": [
       "| 2m 1s                               | 100              | 25613           |"
      ]
     },
     "metadata": {},
     "output_type": "display_data"
    },
    {
     "data": {
      "text/html": [
       "<pre>+-------------------------------------+------------------+-----------------+</pre>"
      ],
      "text/plain": [
       "+-------------------------------------+------------------+-----------------+"
      ]
     },
     "metadata": {},
     "output_type": "display_data"
    },
    {
     "data": {
      "text/html": [
       "<pre>Finalizing lookup tables.</pre>"
      ],
      "text/plain": [
       "Finalizing lookup tables."
      ]
     },
     "metadata": {},
     "output_type": "display_data"
    },
    {
     "data": {
      "text/html": [
       "<pre>Generating candidate set for working with new users.</pre>"
      ],
      "text/plain": [
       "Generating candidate set for working with new users."
      ]
     },
     "metadata": {},
     "output_type": "display_data"
    },
    {
     "data": {
      "text/html": [
       "<pre>Finished training in 123.707s</pre>"
      ],
      "text/plain": [
       "Finished training in 123.707s"
      ]
     },
     "metadata": {},
     "output_type": "display_data"
    }
   ],
   "source": [
    "# Collaborative Filtering Model\n",
    "col_filter_model = graphlab.item_similarity_recommender.create(train_data, user_id  ='userId', item_id = 'movieId', target = 'rating', similarity_type = 'pearson')"
   ]
  },
  {
   "cell_type": "code",
   "execution_count": 31,
   "metadata": {},
   "outputs": [
    {
     "name": "stdout",
     "output_type": "stream",
     "text": [
      "+--------+---------+-------+------+\n",
      "| userId | movieId | score | rank |\n",
      "+--------+---------+-------+------+\n",
      "|   1    |  103871 |  5.0  |  1   |\n",
      "|   1    |  130374 |  5.0  |  2   |\n",
      "|   1    |  106113 |  5.0  |  3   |\n",
      "|   1    |  126945 |  5.0  |  4   |\n",
      "|   1    |  118338 |  5.0  |  5   |\n",
      "|   2    |  103871 |  5.0  |  1   |\n",
      "|   2    |  130374 |  5.0  |  2   |\n",
      "|   2    |  106113 |  5.0  |  3   |\n",
      "|   2    |  126945 |  5.0  |  4   |\n",
      "|   2    |  118338 |  5.0  |  5   |\n",
      "|   3    |  103871 |  5.0  |  1   |\n",
      "|   3    |  130374 |  5.0  |  2   |\n",
      "|   3    |  106113 |  5.0  |  3   |\n",
      "|   3    |  126945 |  5.0  |  4   |\n",
      "|   3    |  118338 |  5.0  |  5   |\n",
      "|   4    |  103871 |  5.0  |  1   |\n",
      "|   4    |  130374 |  5.0  |  2   |\n",
      "|   4    |  106113 |  5.0  |  3   |\n",
      "|   4    |  126945 |  5.0  |  4   |\n",
      "|   4    |  118338 |  5.0  |  5   |\n",
      "|   5    |  103871 |  5.0  |  1   |\n",
      "|   5    |  130374 |  5.0  |  2   |\n",
      "|   5    |  106113 |  5.0  |  3   |\n",
      "|   5    |  126945 |  5.0  |  4   |\n",
      "|   5    |  118338 |  5.0  |  5   |\n",
      "+--------+---------+-------+------+\n",
      "[25 rows x 4 columns]\n",
      "\n"
     ]
    }
   ],
   "source": [
    "# Making recommendations for the first 5 users\n",
    "col_filter_recommend = col_filter_model.recommend(users = range(1,6), k = 5)\n",
    "col_filter_recommend.print_rows(num_rows = 25)"
   ]
  },
  {
   "cell_type": "markdown",
   "metadata": {},
   "source": [
    "## Pivot table based correlation model"
   ]
  },
  {
   "cell_type": "code",
   "execution_count": 32,
   "metadata": {},
   "outputs": [
    {
     "data": {
      "text/html": [
       "<div style=\"max-height:1000px;max-width:1500px;overflow:auto;\"><table frame=\"box\" rules=\"cols\">\n",
       "    <tr>\n",
       "        <th style=\"padding-left: 1em; padding-right: 1em; text-align: center\">movieId</th>\n",
       "        <th style=\"padding-left: 1em; padding-right: 1em; text-align: center\">title</th>\n",
       "        <th style=\"padding-left: 1em; padding-right: 1em; text-align: center\">year</th>\n",
       "        <th style=\"padding-left: 1em; padding-right: 1em; text-align: center\">userId</th>\n",
       "        <th style=\"padding-left: 1em; padding-right: 1em; text-align: center\">rating</th>\n",
       "    </tr>\n",
       "    <tr>\n",
       "        <td style=\"padding-left: 1em; padding-right: 1em; text-align: center; vertical-align: top\">36517</td>\n",
       "        <td style=\"padding-left: 1em; padding-right: 1em; text-align: center; vertical-align: top\">Constant Gardener, The<br>(2005) ...</td>\n",
       "        <td style=\"padding-left: 1em; padding-right: 1em; text-align: center; vertical-align: top\">2005</td>\n",
       "        <td style=\"padding-left: 1em; padding-right: 1em; text-align: center; vertical-align: top\">74586</td>\n",
       "        <td style=\"padding-left: 1em; padding-right: 1em; text-align: center; vertical-align: top\">3.0</td>\n",
       "    </tr>\n",
       "    <tr>\n",
       "        <td style=\"padding-left: 1em; padding-right: 1em; text-align: center; vertical-align: top\">450</td>\n",
       "        <td style=\"padding-left: 1em; padding-right: 1em; text-align: center; vertical-align: top\">With Honors (1994)</td>\n",
       "        <td style=\"padding-left: 1em; padding-right: 1em; text-align: center; vertical-align: top\">1994</td>\n",
       "        <td style=\"padding-left: 1em; padding-right: 1em; text-align: center; vertical-align: top\">15601</td>\n",
       "        <td style=\"padding-left: 1em; padding-right: 1em; text-align: center; vertical-align: top\">2.0</td>\n",
       "    </tr>\n",
       "    <tr>\n",
       "        <td style=\"padding-left: 1em; padding-right: 1em; text-align: center; vertical-align: top\">1201</td>\n",
       "        <td style=\"padding-left: 1em; padding-right: 1em; text-align: center; vertical-align: top\">Good, the Bad and the<br>Ugly, The (Buono, il ...</td>\n",
       "        <td style=\"padding-left: 1em; padding-right: 1em; text-align: center; vertical-align: top\">1966</td>\n",
       "        <td style=\"padding-left: 1em; padding-right: 1em; text-align: center; vertical-align: top\">39142</td>\n",
       "        <td style=\"padding-left: 1em; padding-right: 1em; text-align: center; vertical-align: top\">4.0</td>\n",
       "    </tr>\n",
       "    <tr>\n",
       "        <td style=\"padding-left: 1em; padding-right: 1em; text-align: center; vertical-align: top\">1375</td>\n",
       "        <td style=\"padding-left: 1em; padding-right: 1em; text-align: center; vertical-align: top\">Star Trek III: The Search<br>for Spock (1984) ...</td>\n",
       "        <td style=\"padding-left: 1em; padding-right: 1em; text-align: center; vertical-align: top\">1984</td>\n",
       "        <td style=\"padding-left: 1em; padding-right: 1em; text-align: center; vertical-align: top\">46761</td>\n",
       "        <td style=\"padding-left: 1em; padding-right: 1em; text-align: center; vertical-align: top\">1.5</td>\n",
       "    </tr>\n",
       "    <tr>\n",
       "        <td style=\"padding-left: 1em; padding-right: 1em; text-align: center; vertical-align: top\">435</td>\n",
       "        <td style=\"padding-left: 1em; padding-right: 1em; text-align: center; vertical-align: top\">Coneheads (1993)</td>\n",
       "        <td style=\"padding-left: 1em; padding-right: 1em; text-align: center; vertical-align: top\">1993</td>\n",
       "        <td style=\"padding-left: 1em; padding-right: 1em; text-align: center; vertical-align: top\">102453</td>\n",
       "        <td style=\"padding-left: 1em; padding-right: 1em; text-align: center; vertical-align: top\">3.0</td>\n",
       "    </tr>\n",
       "    <tr>\n",
       "        <td style=\"padding-left: 1em; padding-right: 1em; text-align: center; vertical-align: top\">1517</td>\n",
       "        <td style=\"padding-left: 1em; padding-right: 1em; text-align: center; vertical-align: top\">Austin Powers:<br>International Man of ...</td>\n",
       "        <td style=\"padding-left: 1em; padding-right: 1em; text-align: center; vertical-align: top\">1997</td>\n",
       "        <td style=\"padding-left: 1em; padding-right: 1em; text-align: center; vertical-align: top\">118443</td>\n",
       "        <td style=\"padding-left: 1em; padding-right: 1em; text-align: center; vertical-align: top\">5.0</td>\n",
       "    </tr>\n",
       "    <tr>\n",
       "        <td style=\"padding-left: 1em; padding-right: 1em; text-align: center; vertical-align: top\">434</td>\n",
       "        <td style=\"padding-left: 1em; padding-right: 1em; text-align: center; vertical-align: top\">Cliffhanger (1993)</td>\n",
       "        <td style=\"padding-left: 1em; padding-right: 1em; text-align: center; vertical-align: top\">1993</td>\n",
       "        <td style=\"padding-left: 1em; padding-right: 1em; text-align: center; vertical-align: top\">136028</td>\n",
       "        <td style=\"padding-left: 1em; padding-right: 1em; text-align: center; vertical-align: top\">3.0</td>\n",
       "    </tr>\n",
       "    <tr>\n",
       "        <td style=\"padding-left: 1em; padding-right: 1em; text-align: center; vertical-align: top\">2174</td>\n",
       "        <td style=\"padding-left: 1em; padding-right: 1em; text-align: center; vertical-align: top\">Beetlejuice (1988)</td>\n",
       "        <td style=\"padding-left: 1em; padding-right: 1em; text-align: center; vertical-align: top\">1988</td>\n",
       "        <td style=\"padding-left: 1em; padding-right: 1em; text-align: center; vertical-align: top\">44577</td>\n",
       "        <td style=\"padding-left: 1em; padding-right: 1em; text-align: center; vertical-align: top\">4.0</td>\n",
       "    </tr>\n",
       "    <tr>\n",
       "        <td style=\"padding-left: 1em; padding-right: 1em; text-align: center; vertical-align: top\">1690</td>\n",
       "        <td style=\"padding-left: 1em; padding-right: 1em; text-align: center; vertical-align: top\">Alien: Resurrection<br>(1997) ...</td>\n",
       "        <td style=\"padding-left: 1em; padding-right: 1em; text-align: center; vertical-align: top\">1997</td>\n",
       "        <td style=\"padding-left: 1em; padding-right: 1em; text-align: center; vertical-align: top\">84386</td>\n",
       "        <td style=\"padding-left: 1em; padding-right: 1em; text-align: center; vertical-align: top\">2.5</td>\n",
       "    </tr>\n",
       "    <tr>\n",
       "        <td style=\"padding-left: 1em; padding-right: 1em; text-align: center; vertical-align: top\">2455</td>\n",
       "        <td style=\"padding-left: 1em; padding-right: 1em; text-align: center; vertical-align: top\">Fly, The (1986)</td>\n",
       "        <td style=\"padding-left: 1em; padding-right: 1em; text-align: center; vertical-align: top\">1986</td>\n",
       "        <td style=\"padding-left: 1em; padding-right: 1em; text-align: center; vertical-align: top\">124324</td>\n",
       "        <td style=\"padding-left: 1em; padding-right: 1em; text-align: center; vertical-align: top\">2.0</td>\n",
       "    </tr>\n",
       "</table>\n",
       "[10 rows x 5 columns]<br/>\n",
       "</div>"
      ],
      "text/plain": [
       "Columns:\n",
       "\tmovieId\tint\n",
       "\ttitle\tstr\n",
       "\tyear\tstr\n",
       "\tuserId\tint\n",
       "\trating\tfloat\n",
       "\n",
       "Rows: 10\n",
       "\n",
       "Data:\n",
       "+---------+-------------------------------+------+--------+--------+\n",
       "| movieId |             title             | year | userId | rating |\n",
       "+---------+-------------------------------+------+--------+--------+\n",
       "|  36517  | Constant Gardener, The (2005) | 2005 | 74586  |  3.0   |\n",
       "|   450   |       With Honors (1994)      | 1994 | 15601  |  2.0   |\n",
       "|   1201  | Good, the Bad and the Ugly... | 1966 | 39142  |  4.0   |\n",
       "|   1375  | Star Trek III: The Search ... | 1984 | 46761  |  1.5   |\n",
       "|   435   |        Coneheads (1993)       | 1993 | 102453 |  3.0   |\n",
       "|   1517  | Austin Powers: Internation... | 1997 | 118443 |  5.0   |\n",
       "|   434   |       Cliffhanger (1993)      | 1993 | 136028 |  3.0   |\n",
       "|   2174  |       Beetlejuice (1988)      | 1988 | 44577  |  4.0   |\n",
       "|   1690  |   Alien: Resurrection (1997)  | 1997 | 84386  |  2.5   |\n",
       "|   2455  |        Fly, The (1986)        | 1986 | 124324 |  2.0   |\n",
       "+---------+-------------------------------+------+--------+--------+\n",
       "[10 rows x 5 columns]"
      ]
     },
     "execution_count": 32,
     "metadata": {},
     "output_type": "execute_result"
    }
   ],
   "source": [
    "train_data.head()"
   ]
  },
  {
   "cell_type": "code",
   "execution_count": 33,
   "metadata": {},
   "outputs": [
    {
     "data": {
      "text/html": [
       "<div style=\"max-height:1000px;max-width:1500px;overflow:auto;\"><table frame=\"box\" rules=\"cols\">\n",
       "    <tr>\n",
       "        <th style=\"padding-left: 1em; padding-right: 1em; text-align: center\">movieId</th>\n",
       "        <th style=\"padding-left: 1em; padding-right: 1em; text-align: center\">title</th>\n",
       "        <th style=\"padding-left: 1em; padding-right: 1em; text-align: center\">year</th>\n",
       "        <th style=\"padding-left: 1em; padding-right: 1em; text-align: center\">userId</th>\n",
       "        <th style=\"padding-left: 1em; padding-right: 1em; text-align: center\">rating</th>\n",
       "    </tr>\n",
       "    <tr>\n",
       "        <td style=\"padding-left: 1em; padding-right: 1em; text-align: center; vertical-align: top\">1248</td>\n",
       "        <td style=\"padding-left: 1em; padding-right: 1em; text-align: center; vertical-align: top\">Touch of Evil (1958)</td>\n",
       "        <td style=\"padding-left: 1em; padding-right: 1em; text-align: center; vertical-align: top\">1958</td>\n",
       "        <td style=\"padding-left: 1em; padding-right: 1em; text-align: center; vertical-align: top\">98350</td>\n",
       "        <td style=\"padding-left: 1em; padding-right: 1em; text-align: center; vertical-align: top\">3.5</td>\n",
       "    </tr>\n",
       "    <tr>\n",
       "        <td style=\"padding-left: 1em; padding-right: 1em; text-align: center; vertical-align: top\">50</td>\n",
       "        <td style=\"padding-left: 1em; padding-right: 1em; text-align: center; vertical-align: top\">Usual Suspects, The<br>(1995) ...</td>\n",
       "        <td style=\"padding-left: 1em; padding-right: 1em; text-align: center; vertical-align: top\">1995</td>\n",
       "        <td style=\"padding-left: 1em; padding-right: 1em; text-align: center; vertical-align: top\">37638</td>\n",
       "        <td style=\"padding-left: 1em; padding-right: 1em; text-align: center; vertical-align: top\">4.5</td>\n",
       "    </tr>\n",
       "    <tr>\n",
       "        <td style=\"padding-left: 1em; padding-right: 1em; text-align: center; vertical-align: top\">2165</td>\n",
       "        <td style=\"padding-left: 1em; padding-right: 1em; text-align: center; vertical-align: top\">Your Friends and<br>Neighbors (1998) ...</td>\n",
       "        <td style=\"padding-left: 1em; padding-right: 1em; text-align: center; vertical-align: top\">1998</td>\n",
       "        <td style=\"padding-left: 1em; padding-right: 1em; text-align: center; vertical-align: top\">108947</td>\n",
       "        <td style=\"padding-left: 1em; padding-right: 1em; text-align: center; vertical-align: top\">3.0</td>\n",
       "    </tr>\n",
       "    <tr>\n",
       "        <td style=\"padding-left: 1em; padding-right: 1em; text-align: center; vertical-align: top\">2504</td>\n",
       "        <td style=\"padding-left: 1em; padding-right: 1em; text-align: center; vertical-align: top\">200 Cigarettes (1999)</td>\n",
       "        <td style=\"padding-left: 1em; padding-right: 1em; text-align: center; vertical-align: top\">1999</td>\n",
       "        <td style=\"padding-left: 1em; padding-right: 1em; text-align: center; vertical-align: top\">68575</td>\n",
       "        <td style=\"padding-left: 1em; padding-right: 1em; text-align: center; vertical-align: top\">1.0</td>\n",
       "    </tr>\n",
       "    <tr>\n",
       "        <td style=\"padding-left: 1em; padding-right: 1em; text-align: center; vertical-align: top\">1188</td>\n",
       "        <td style=\"padding-left: 1em; padding-right: 1em; text-align: center; vertical-align: top\">Strictly Ballroom (1992)</td>\n",
       "        <td style=\"padding-left: 1em; padding-right: 1em; text-align: center; vertical-align: top\">1992</td>\n",
       "        <td style=\"padding-left: 1em; padding-right: 1em; text-align: center; vertical-align: top\">43419</td>\n",
       "        <td style=\"padding-left: 1em; padding-right: 1em; text-align: center; vertical-align: top\">4.0</td>\n",
       "    </tr>\n",
       "    <tr>\n",
       "        <td style=\"padding-left: 1em; padding-right: 1em; text-align: center; vertical-align: top\">349</td>\n",
       "        <td style=\"padding-left: 1em; padding-right: 1em; text-align: center; vertical-align: top\">Clear and Present Danger<br>(1994) ...</td>\n",
       "        <td style=\"padding-left: 1em; padding-right: 1em; text-align: center; vertical-align: top\">1994</td>\n",
       "        <td style=\"padding-left: 1em; padding-right: 1em; text-align: center; vertical-align: top\">74299</td>\n",
       "        <td style=\"padding-left: 1em; padding-right: 1em; text-align: center; vertical-align: top\">4.0</td>\n",
       "    </tr>\n",
       "    <tr>\n",
       "        <td style=\"padding-left: 1em; padding-right: 1em; text-align: center; vertical-align: top\">2712</td>\n",
       "        <td style=\"padding-left: 1em; padding-right: 1em; text-align: center; vertical-align: top\">Eyes Wide Shut (1999)</td>\n",
       "        <td style=\"padding-left: 1em; padding-right: 1em; text-align: center; vertical-align: top\">1999</td>\n",
       "        <td style=\"padding-left: 1em; padding-right: 1em; text-align: center; vertical-align: top\">73557</td>\n",
       "        <td style=\"padding-left: 1em; padding-right: 1em; text-align: center; vertical-align: top\">3.0</td>\n",
       "    </tr>\n",
       "    <tr>\n",
       "        <td style=\"padding-left: 1em; padding-right: 1em; text-align: center; vertical-align: top\">2250</td>\n",
       "        <td style=\"padding-left: 1em; padding-right: 1em; text-align: center; vertical-align: top\">Men Don't Leave (1990)</td>\n",
       "        <td style=\"padding-left: 1em; padding-right: 1em; text-align: center; vertical-align: top\">1990</td>\n",
       "        <td style=\"padding-left: 1em; padding-right: 1em; text-align: center; vertical-align: top\">22092</td>\n",
       "        <td style=\"padding-left: 1em; padding-right: 1em; text-align: center; vertical-align: top\">5.0</td>\n",
       "    </tr>\n",
       "    <tr>\n",
       "        <td style=\"padding-left: 1em; padding-right: 1em; text-align: center; vertical-align: top\">2034</td>\n",
       "        <td style=\"padding-left: 1em; padding-right: 1em; text-align: center; vertical-align: top\">Black Hole, The (1979)</td>\n",
       "        <td style=\"padding-left: 1em; padding-right: 1em; text-align: center; vertical-align: top\">1979</td>\n",
       "        <td style=\"padding-left: 1em; padding-right: 1em; text-align: center; vertical-align: top\">92957</td>\n",
       "        <td style=\"padding-left: 1em; padding-right: 1em; text-align: center; vertical-align: top\">4.0</td>\n",
       "    </tr>\n",
       "    <tr>\n",
       "        <td style=\"padding-left: 1em; padding-right: 1em; text-align: center; vertical-align: top\">1396</td>\n",
       "        <td style=\"padding-left: 1em; padding-right: 1em; text-align: center; vertical-align: top\">Sneakers (1992)</td>\n",
       "        <td style=\"padding-left: 1em; padding-right: 1em; text-align: center; vertical-align: top\">1992</td>\n",
       "        <td style=\"padding-left: 1em; padding-right: 1em; text-align: center; vertical-align: top\">1843</td>\n",
       "        <td style=\"padding-left: 1em; padding-right: 1em; text-align: center; vertical-align: top\">4.0</td>\n",
       "    </tr>\n",
       "</table>\n",
       "[10 rows x 5 columns]<br/>\n",
       "</div>"
      ],
      "text/plain": [
       "Columns:\n",
       "\tmovieId\tint\n",
       "\ttitle\tstr\n",
       "\tyear\tstr\n",
       "\tuserId\tint\n",
       "\trating\tfloat\n",
       "\n",
       "Rows: 10\n",
       "\n",
       "Data:\n",
       "+---------+-------------------------------+------+--------+--------+\n",
       "| movieId |             title             | year | userId | rating |\n",
       "+---------+-------------------------------+------+--------+--------+\n",
       "|   1248  |      Touch of Evil (1958)     | 1958 | 98350  |  3.5   |\n",
       "|    50   |   Usual Suspects, The (1995)  | 1995 | 37638  |  4.5   |\n",
       "|   2165  | Your Friends and Neighbors... | 1998 | 108947 |  3.0   |\n",
       "|   2504  |     200 Cigarettes (1999)     | 1999 | 68575  |  1.0   |\n",
       "|   1188  |    Strictly Ballroom (1992)   | 1992 | 43419  |  4.0   |\n",
       "|   349   | Clear and Present Danger (... | 1994 | 74299  |  4.0   |\n",
       "|   2712  |     Eyes Wide Shut (1999)     | 1999 | 73557  |  3.0   |\n",
       "|   2250  |     Men Don't Leave (1990)    | 1990 | 22092  |  5.0   |\n",
       "|   2034  |     Black Hole, The (1979)    | 1979 | 92957  |  4.0   |\n",
       "|   1396  |        Sneakers (1992)        | 1992 |  1843  |  4.0   |\n",
       "+---------+-------------------------------+------+--------+--------+\n",
       "[10 rows x 5 columns]"
      ]
     },
     "execution_count": 33,
     "metadata": {},
     "output_type": "execute_result"
    }
   ],
   "source": [
    "test_data.head()"
   ]
  },
  {
   "cell_type": "code",
   "execution_count": 34,
   "metadata": {},
   "outputs": [],
   "source": [
    "# Splitting combined data else it would cause int 32 bit overflow\n",
    "X_train = combined.iloc[:1000000,:]\n",
    "X_test = combined.iloc[1000000:,:]"
   ]
  },
  {
   "cell_type": "code",
   "execution_count": 35,
   "metadata": {},
   "outputs": [],
   "source": [
    "# Making a pivot table\n",
    "pivot = X_train.pivot_table(index = [\"userId\"],columns = [\"title\"],values = \"rating\")"
   ]
  },
  {
   "cell_type": "code",
   "execution_count": 36,
   "metadata": {},
   "outputs": [
    {
     "data": {
      "text/html": [
       "<div>\n",
       "<style scoped>\n",
       "    .dataframe tbody tr th:only-of-type {\n",
       "        vertical-align: middle;\n",
       "    }\n",
       "\n",
       "    .dataframe tbody tr th {\n",
       "        vertical-align: top;\n",
       "    }\n",
       "\n",
       "    .dataframe thead th {\n",
       "        text-align: right;\n",
       "    }\n",
       "</style>\n",
       "<table border=\"1\" class=\"dataframe\">\n",
       "  <thead>\n",
       "    <tr style=\"text-align: right;\">\n",
       "      <th>title</th>\n",
       "      <th>Ace Ventura: When Nature Calls (1995)</th>\n",
       "      <th>Across the Sea of Time (1995)</th>\n",
       "      <th>Amazing Panda Adventure, The (1995)</th>\n",
       "      <th>American President, The (1995)</th>\n",
       "      <th>Angela (1995)</th>\n",
       "      <th>Angels and Insects (1995)</th>\n",
       "      <th>Anne Frank Remembered (1995)</th>\n",
       "      <th>Antonia's Line (Antonia) (1995)</th>\n",
       "      <th>Assassins (1995)</th>\n",
       "      <th>Babe (1995)</th>\n",
       "      <th>...</th>\n",
       "      <th>Unforgettable (1996)</th>\n",
       "      <th>Up Close and Personal (1996)</th>\n",
       "      <th>Usual Suspects, The (1995)</th>\n",
       "      <th>Vampire in Brooklyn (1995)</th>\n",
       "      <th>Waiting to Exhale (1995)</th>\n",
       "      <th>When Night Is Falling (1995)</th>\n",
       "      <th>White Balloon, The (Badkonake sefid) (1995)</th>\n",
       "      <th>White Squall (1996)</th>\n",
       "      <th>Wings of Courage (1995)</th>\n",
       "      <th>Young Poisoner's Handbook, The (1995)</th>\n",
       "    </tr>\n",
       "    <tr>\n",
       "      <th>userId</th>\n",
       "      <th></th>\n",
       "      <th></th>\n",
       "      <th></th>\n",
       "      <th></th>\n",
       "      <th></th>\n",
       "      <th></th>\n",
       "      <th></th>\n",
       "      <th></th>\n",
       "      <th></th>\n",
       "      <th></th>\n",
       "      <th></th>\n",
       "      <th></th>\n",
       "      <th></th>\n",
       "      <th></th>\n",
       "      <th></th>\n",
       "      <th></th>\n",
       "      <th></th>\n",
       "      <th></th>\n",
       "      <th></th>\n",
       "      <th></th>\n",
       "      <th></th>\n",
       "    </tr>\n",
       "  </thead>\n",
       "  <tbody>\n",
       "    <tr>\n",
       "      <th>1</th>\n",
       "      <td>NaN</td>\n",
       "      <td>NaN</td>\n",
       "      <td>NaN</td>\n",
       "      <td>NaN</td>\n",
       "      <td>NaN</td>\n",
       "      <td>NaN</td>\n",
       "      <td>NaN</td>\n",
       "      <td>NaN</td>\n",
       "      <td>NaN</td>\n",
       "      <td>NaN</td>\n",
       "      <td>...</td>\n",
       "      <td>NaN</td>\n",
       "      <td>NaN</td>\n",
       "      <td>3.5</td>\n",
       "      <td>NaN</td>\n",
       "      <td>NaN</td>\n",
       "      <td>NaN</td>\n",
       "      <td>NaN</td>\n",
       "      <td>NaN</td>\n",
       "      <td>NaN</td>\n",
       "      <td>NaN</td>\n",
       "    </tr>\n",
       "    <tr>\n",
       "      <th>2</th>\n",
       "      <td>NaN</td>\n",
       "      <td>NaN</td>\n",
       "      <td>NaN</td>\n",
       "      <td>NaN</td>\n",
       "      <td>NaN</td>\n",
       "      <td>NaN</td>\n",
       "      <td>NaN</td>\n",
       "      <td>NaN</td>\n",
       "      <td>NaN</td>\n",
       "      <td>NaN</td>\n",
       "      <td>...</td>\n",
       "      <td>NaN</td>\n",
       "      <td>NaN</td>\n",
       "      <td>NaN</td>\n",
       "      <td>NaN</td>\n",
       "      <td>NaN</td>\n",
       "      <td>NaN</td>\n",
       "      <td>NaN</td>\n",
       "      <td>NaN</td>\n",
       "      <td>NaN</td>\n",
       "      <td>NaN</td>\n",
       "    </tr>\n",
       "    <tr>\n",
       "      <th>3</th>\n",
       "      <td>NaN</td>\n",
       "      <td>NaN</td>\n",
       "      <td>NaN</td>\n",
       "      <td>NaN</td>\n",
       "      <td>NaN</td>\n",
       "      <td>NaN</td>\n",
       "      <td>NaN</td>\n",
       "      <td>NaN</td>\n",
       "      <td>NaN</td>\n",
       "      <td>NaN</td>\n",
       "      <td>...</td>\n",
       "      <td>NaN</td>\n",
       "      <td>NaN</td>\n",
       "      <td>5.0</td>\n",
       "      <td>NaN</td>\n",
       "      <td>NaN</td>\n",
       "      <td>NaN</td>\n",
       "      <td>NaN</td>\n",
       "      <td>NaN</td>\n",
       "      <td>NaN</td>\n",
       "      <td>NaN</td>\n",
       "    </tr>\n",
       "    <tr>\n",
       "      <th>4</th>\n",
       "      <td>3.0</td>\n",
       "      <td>NaN</td>\n",
       "      <td>NaN</td>\n",
       "      <td>NaN</td>\n",
       "      <td>NaN</td>\n",
       "      <td>NaN</td>\n",
       "      <td>NaN</td>\n",
       "      <td>NaN</td>\n",
       "      <td>NaN</td>\n",
       "      <td>NaN</td>\n",
       "      <td>...</td>\n",
       "      <td>NaN</td>\n",
       "      <td>NaN</td>\n",
       "      <td>NaN</td>\n",
       "      <td>NaN</td>\n",
       "      <td>NaN</td>\n",
       "      <td>NaN</td>\n",
       "      <td>NaN</td>\n",
       "      <td>NaN</td>\n",
       "      <td>NaN</td>\n",
       "      <td>NaN</td>\n",
       "    </tr>\n",
       "    <tr>\n",
       "      <th>5</th>\n",
       "      <td>NaN</td>\n",
       "      <td>NaN</td>\n",
       "      <td>NaN</td>\n",
       "      <td>5.0</td>\n",
       "      <td>NaN</td>\n",
       "      <td>NaN</td>\n",
       "      <td>NaN</td>\n",
       "      <td>NaN</td>\n",
       "      <td>NaN</td>\n",
       "      <td>NaN</td>\n",
       "      <td>...</td>\n",
       "      <td>NaN</td>\n",
       "      <td>2.0</td>\n",
       "      <td>NaN</td>\n",
       "      <td>NaN</td>\n",
       "      <td>NaN</td>\n",
       "      <td>NaN</td>\n",
       "      <td>NaN</td>\n",
       "      <td>NaN</td>\n",
       "      <td>NaN</td>\n",
       "      <td>NaN</td>\n",
       "    </tr>\n",
       "  </tbody>\n",
       "</table>\n",
       "<p>5 rows × 146 columns</p>\n",
       "</div>"
      ],
      "text/plain": [
       "title   Ace Ventura: When Nature Calls (1995)  Across the Sea of Time (1995)  \\\n",
       "userId                                                                         \n",
       "1                                         NaN                            NaN   \n",
       "2                                         NaN                            NaN   \n",
       "3                                         NaN                            NaN   \n",
       "4                                         3.0                            NaN   \n",
       "5                                         NaN                            NaN   \n",
       "\n",
       "title   Amazing Panda Adventure, The (1995)  American President, The (1995)  \\\n",
       "userId                                                                        \n",
       "1                                       NaN                             NaN   \n",
       "2                                       NaN                             NaN   \n",
       "3                                       NaN                             NaN   \n",
       "4                                       NaN                             NaN   \n",
       "5                                       NaN                             5.0   \n",
       "\n",
       "title   Angela (1995)  Angels and Insects (1995)  \\\n",
       "userId                                             \n",
       "1                 NaN                        NaN   \n",
       "2                 NaN                        NaN   \n",
       "3                 NaN                        NaN   \n",
       "4                 NaN                        NaN   \n",
       "5                 NaN                        NaN   \n",
       "\n",
       "title   Anne Frank Remembered (1995)  Antonia's Line (Antonia) (1995)  \\\n",
       "userId                                                                  \n",
       "1                                NaN                              NaN   \n",
       "2                                NaN                              NaN   \n",
       "3                                NaN                              NaN   \n",
       "4                                NaN                              NaN   \n",
       "5                                NaN                              NaN   \n",
       "\n",
       "title   Assassins (1995)  Babe (1995)  ...  Unforgettable (1996)  \\\n",
       "userId                                 ...                         \n",
       "1                    NaN          NaN  ...                   NaN   \n",
       "2                    NaN          NaN  ...                   NaN   \n",
       "3                    NaN          NaN  ...                   NaN   \n",
       "4                    NaN          NaN  ...                   NaN   \n",
       "5                    NaN          NaN  ...                   NaN   \n",
       "\n",
       "title   Up Close and Personal (1996)  Usual Suspects, The (1995)  \\\n",
       "userId                                                             \n",
       "1                                NaN                         3.5   \n",
       "2                                NaN                         NaN   \n",
       "3                                NaN                         5.0   \n",
       "4                                NaN                         NaN   \n",
       "5                                2.0                         NaN   \n",
       "\n",
       "title   Vampire in Brooklyn (1995)  Waiting to Exhale (1995)  \\\n",
       "userId                                                         \n",
       "1                              NaN                       NaN   \n",
       "2                              NaN                       NaN   \n",
       "3                              NaN                       NaN   \n",
       "4                              NaN                       NaN   \n",
       "5                              NaN                       NaN   \n",
       "\n",
       "title   When Night Is Falling (1995)  \\\n",
       "userId                                 \n",
       "1                                NaN   \n",
       "2                                NaN   \n",
       "3                                NaN   \n",
       "4                                NaN   \n",
       "5                                NaN   \n",
       "\n",
       "title   White Balloon, The (Badkonake sefid) (1995)  White Squall (1996)  \\\n",
       "userId                                                                     \n",
       "1                                               NaN                  NaN   \n",
       "2                                               NaN                  NaN   \n",
       "3                                               NaN                  NaN   \n",
       "4                                               NaN                  NaN   \n",
       "5                                               NaN                  NaN   \n",
       "\n",
       "title   Wings of Courage (1995)  Young Poisoner's Handbook, The (1995)  \n",
       "userId                                                                  \n",
       "1                           NaN                                    NaN  \n",
       "2                           NaN                                    NaN  \n",
       "3                           NaN                                    NaN  \n",
       "4                           NaN                                    NaN  \n",
       "5                           NaN                                    NaN  \n",
       "\n",
       "[5 rows x 146 columns]"
      ]
     },
     "execution_count": 36,
     "metadata": {},
     "output_type": "execute_result"
    }
   ],
   "source": [
    "pivot.head()"
   ]
  },
  {
   "cell_type": "code",
   "execution_count": 37,
   "metadata": {},
   "outputs": [
    {
     "name": "stdout",
     "output_type": "stream",
     "text": [
      "Angels and Insects (1995)\n"
     ]
    }
   ],
   "source": [
    "movie_name = raw_input()"
   ]
  },
  {
   "cell_type": "code",
   "execution_count": 38,
   "metadata": {},
   "outputs": [
    {
     "name": "stdout",
     "output_type": "stream",
     "text": [
      "Movies similar to the given movies are:\n"
     ]
    },
    {
     "data": {
      "text/plain": [
       "title\n",
       "Angels and Insects (1995)                          1.000000\n",
       "Shopping (1994)                                    0.699419\n",
       "Shadows (Cienie) (1988)                            0.534949\n",
       "Cry, the Beloved Country (1995)                    0.495841\n",
       "Once Upon a Time... When We Were Colored (1995)    0.484011\n",
       "dtype: float64"
      ]
     },
     "execution_count": 38,
     "metadata": {},
     "output_type": "execute_result"
    }
   ],
   "source": [
    "# Find correlation between the input movie and other movies\n",
    "print(\"Movies similar to the given movies are:\")\n",
    "movie_watched = pivot[movie_name]\n",
    "similarity = pivot.corrwith(movie_watched)  \n",
    "similarity = similarity.sort_values(ascending=False)\n",
    "similarity.head()"
   ]
  },
  {
   "cell_type": "code",
   "execution_count": 39,
   "metadata": {},
   "outputs": [],
   "source": [
    "# Generalizing correlation in a function\n",
    "def recommend(movie_name):\n",
    "    print(\"Movies similar to the given movies are:\")\n",
    "    movie_watched = pivot[movie_name]\n",
    "    similarity = pivot.corrwith(movie_watched)  \n",
    "    similarity = similarity.sort_values(ascending=False)\n",
    "    print similarity.head()"
   ]
  },
  {
   "cell_type": "code",
   "execution_count": 40,
   "metadata": {},
   "outputs": [
    {
     "name": "stdout",
     "output_type": "stream",
     "text": [
      "Across the Sea of Time (1995)\n"
     ]
    }
   ],
   "source": [
    "movie_name = raw_input()"
   ]
  },
  {
   "cell_type": "code",
   "execution_count": 41,
   "metadata": {},
   "outputs": [
    {
     "name": "stdout",
     "output_type": "stream",
     "text": [
      "Movies similar to the given movies are:\n"
     ]
    },
    {
     "name": "stderr",
     "output_type": "stream",
     "text": [
      "F:\\Installed\\Anaconda3\\envs\\py27\\lib\\site-packages\\numpy\\lib\\function_base.py:2522: RuntimeWarning: Degrees of freedom <= 0 for slice\n",
      "  c = cov(x, y, rowvar)\n",
      "F:\\Installed\\Anaconda3\\envs\\py27\\lib\\site-packages\\numpy\\lib\\function_base.py:2451: RuntimeWarning: divide by zero encountered in true_divide\n",
      "  c *= np.true_divide(1, fact)\n"
     ]
    },
    {
     "name": "stdout",
     "output_type": "stream",
     "text": [
      "title\n",
      "Sonic Outlaws (1995)                   1.000000\n",
      "Across the Sea of Time (1995)          1.000000\n",
      "Pie in the Sky (1996)                  1.000000\n",
      "Headless Body in Topless Bar (1995)    1.000000\n",
      "Steal Big, Steal Little (1995)         0.944911\n",
      "dtype: float64\n"
     ]
    }
   ],
   "source": [
    "recommend(movie_name)"
   ]
  },
  {
   "cell_type": "markdown",
   "metadata": {},
   "source": [
    "### Evaluation of Models"
   ]
  },
  {
   "cell_type": "code",
   "execution_count": 42,
   "metadata": {},
   "outputs": [
    {
     "name": "stdout",
     "output_type": "stream",
     "text": [
      "PROGRESS: Evaluate model M0\n"
     ]
    },
    {
     "data": {
      "text/html": [
       "<pre>recommendations finished on 1000/138452 queries. users per second: 4554.87</pre>"
      ],
      "text/plain": [
       "recommendations finished on 1000/138452 queries. users per second: 4554.87"
      ]
     },
     "metadata": {},
     "output_type": "display_data"
    },
    {
     "data": {
      "text/html": [
       "<pre>recommendations finished on 2000/138452 queries. users per second: 4091.75</pre>"
      ],
      "text/plain": [
       "recommendations finished on 2000/138452 queries. users per second: 4091.75"
      ]
     },
     "metadata": {},
     "output_type": "display_data"
    },
    {
     "data": {
      "text/html": [
       "<pre>recommendations finished on 3000/138452 queries. users per second: 4083.53</pre>"
      ],
      "text/plain": [
       "recommendations finished on 3000/138452 queries. users per second: 4083.53"
      ]
     },
     "metadata": {},
     "output_type": "display_data"
    },
    {
     "data": {
      "text/html": [
       "<pre>recommendations finished on 4000/138452 queries. users per second: 4168.16</pre>"
      ],
      "text/plain": [
       "recommendations finished on 4000/138452 queries. users per second: 4168.16"
      ]
     },
     "metadata": {},
     "output_type": "display_data"
    },
    {
     "data": {
      "text/html": [
       "<pre>recommendations finished on 5000/138452 queries. users per second: 4167.76</pre>"
      ],
      "text/plain": [
       "recommendations finished on 5000/138452 queries. users per second: 4167.76"
      ]
     },
     "metadata": {},
     "output_type": "display_data"
    },
    {
     "data": {
      "text/html": [
       "<pre>recommendations finished on 6000/138452 queries. users per second: 4173.3</pre>"
      ],
      "text/plain": [
       "recommendations finished on 6000/138452 queries. users per second: 4173.3"
      ]
     },
     "metadata": {},
     "output_type": "display_data"
    },
    {
     "data": {
      "text/html": [
       "<pre>recommendations finished on 7000/138452 queries. users per second: 4182.23</pre>"
      ],
      "text/plain": [
       "recommendations finished on 7000/138452 queries. users per second: 4182.23"
      ]
     },
     "metadata": {},
     "output_type": "display_data"
    },
    {
     "data": {
      "text/html": [
       "<pre>recommendations finished on 8000/138452 queries. users per second: 4202.2</pre>"
      ],
      "text/plain": [
       "recommendations finished on 8000/138452 queries. users per second: 4202.2"
      ]
     },
     "metadata": {},
     "output_type": "display_data"
    },
    {
     "data": {
      "text/html": [
       "<pre>recommendations finished on 9000/138452 queries. users per second: 4214.05</pre>"
      ],
      "text/plain": [
       "recommendations finished on 9000/138452 queries. users per second: 4214.05"
      ]
     },
     "metadata": {},
     "output_type": "display_data"
    },
    {
     "data": {
      "text/html": [
       "<pre>recommendations finished on 10000/138452 queries. users per second: 4225.27</pre>"
      ],
      "text/plain": [
       "recommendations finished on 10000/138452 queries. users per second: 4225.27"
      ]
     },
     "metadata": {},
     "output_type": "display_data"
    },
    {
     "data": {
      "text/html": [
       "<pre>recommendations finished on 11000/138452 queries. users per second: 4241.02</pre>"
      ],
      "text/plain": [
       "recommendations finished on 11000/138452 queries. users per second: 4241.02"
      ]
     },
     "metadata": {},
     "output_type": "display_data"
    },
    {
     "data": {
      "text/html": [
       "<pre>recommendations finished on 12000/138452 queries. users per second: 4073.72</pre>"
      ],
      "text/plain": [
       "recommendations finished on 12000/138452 queries. users per second: 4073.72"
      ]
     },
     "metadata": {},
     "output_type": "display_data"
    },
    {
     "data": {
      "text/html": [
       "<pre>recommendations finished on 13000/138452 queries. users per second: 4038.91</pre>"
      ],
      "text/plain": [
       "recommendations finished on 13000/138452 queries. users per second: 4038.91"
      ]
     },
     "metadata": {},
     "output_type": "display_data"
    },
    {
     "data": {
      "text/html": [
       "<pre>recommendations finished on 14000/138452 queries. users per second: 4053.65</pre>"
      ],
      "text/plain": [
       "recommendations finished on 14000/138452 queries. users per second: 4053.65"
      ]
     },
     "metadata": {},
     "output_type": "display_data"
    },
    {
     "data": {
      "text/html": [
       "<pre>recommendations finished on 15000/138452 queries. users per second: 4069.86</pre>"
      ],
      "text/plain": [
       "recommendations finished on 15000/138452 queries. users per second: 4069.86"
      ]
     },
     "metadata": {},
     "output_type": "display_data"
    },
    {
     "data": {
      "text/html": [
       "<pre>recommendations finished on 16000/138452 queries. users per second: 4085.12</pre>"
      ],
      "text/plain": [
       "recommendations finished on 16000/138452 queries. users per second: 4085.12"
      ]
     },
     "metadata": {},
     "output_type": "display_data"
    },
    {
     "data": {
      "text/html": [
       "<pre>recommendations finished on 17000/138452 queries. users per second: 4075.13</pre>"
      ],
      "text/plain": [
       "recommendations finished on 17000/138452 queries. users per second: 4075.13"
      ]
     },
     "metadata": {},
     "output_type": "display_data"
    },
    {
     "data": {
      "text/html": [
       "<pre>recommendations finished on 18000/138452 queries. users per second: 4055.31</pre>"
      ],
      "text/plain": [
       "recommendations finished on 18000/138452 queries. users per second: 4055.31"
      ]
     },
     "metadata": {},
     "output_type": "display_data"
    },
    {
     "data": {
      "text/html": [
       "<pre>recommendations finished on 19000/138452 queries. users per second: 4052.32</pre>"
      ],
      "text/plain": [
       "recommendations finished on 19000/138452 queries. users per second: 4052.32"
      ]
     },
     "metadata": {},
     "output_type": "display_data"
    },
    {
     "data": {
      "text/html": [
       "<pre>recommendations finished on 20000/138452 queries. users per second: 4069.46</pre>"
      ],
      "text/plain": [
       "recommendations finished on 20000/138452 queries. users per second: 4069.46"
      ]
     },
     "metadata": {},
     "output_type": "display_data"
    },
    {
     "data": {
      "text/html": [
       "<pre>recommendations finished on 21000/138452 queries. users per second: 4082.71</pre>"
      ],
      "text/plain": [
       "recommendations finished on 21000/138452 queries. users per second: 4082.71"
      ]
     },
     "metadata": {},
     "output_type": "display_data"
    },
    {
     "data": {
      "text/html": [
       "<pre>recommendations finished on 22000/138452 queries. users per second: 4081.03</pre>"
      ],
      "text/plain": [
       "recommendations finished on 22000/138452 queries. users per second: 4081.03"
      ]
     },
     "metadata": {},
     "output_type": "display_data"
    },
    {
     "data": {
      "text/html": [
       "<pre>recommendations finished on 23000/138452 queries. users per second: 4085.48</pre>"
      ],
      "text/plain": [
       "recommendations finished on 23000/138452 queries. users per second: 4085.48"
      ]
     },
     "metadata": {},
     "output_type": "display_data"
    },
    {
     "data": {
      "text/html": [
       "<pre>recommendations finished on 24000/138452 queries. users per second: 4086.01</pre>"
      ],
      "text/plain": [
       "recommendations finished on 24000/138452 queries. users per second: 4086.01"
      ]
     },
     "metadata": {},
     "output_type": "display_data"
    },
    {
     "data": {
      "text/html": [
       "<pre>recommendations finished on 25000/138452 queries. users per second: 4085.86</pre>"
      ],
      "text/plain": [
       "recommendations finished on 25000/138452 queries. users per second: 4085.86"
      ]
     },
     "metadata": {},
     "output_type": "display_data"
    },
    {
     "data": {
      "text/html": [
       "<pre>recommendations finished on 26000/138452 queries. users per second: 4042.47</pre>"
      ],
      "text/plain": [
       "recommendations finished on 26000/138452 queries. users per second: 4042.47"
      ]
     },
     "metadata": {},
     "output_type": "display_data"
    },
    {
     "data": {
      "text/html": [
       "<pre>recommendations finished on 27000/138452 queries. users per second: 3999.34</pre>"
      ],
      "text/plain": [
       "recommendations finished on 27000/138452 queries. users per second: 3999.34"
      ]
     },
     "metadata": {},
     "output_type": "display_data"
    },
    {
     "data": {
      "text/html": [
       "<pre>recommendations finished on 28000/138452 queries. users per second: 3955.94</pre>"
      ],
      "text/plain": [
       "recommendations finished on 28000/138452 queries. users per second: 3955.94"
      ]
     },
     "metadata": {},
     "output_type": "display_data"
    },
    {
     "data": {
      "text/html": [
       "<pre>recommendations finished on 29000/138452 queries. users per second: 3956.97</pre>"
      ],
      "text/plain": [
       "recommendations finished on 29000/138452 queries. users per second: 3956.97"
      ]
     },
     "metadata": {},
     "output_type": "display_data"
    },
    {
     "data": {
      "text/html": [
       "<pre>recommendations finished on 30000/138452 queries. users per second: 3952.65</pre>"
      ],
      "text/plain": [
       "recommendations finished on 30000/138452 queries. users per second: 3952.65"
      ]
     },
     "metadata": {},
     "output_type": "display_data"
    },
    {
     "data": {
      "text/html": [
       "<pre>recommendations finished on 31000/138452 queries. users per second: 3964.29</pre>"
      ],
      "text/plain": [
       "recommendations finished on 31000/138452 queries. users per second: 3964.29"
      ]
     },
     "metadata": {},
     "output_type": "display_data"
    },
    {
     "data": {
      "text/html": [
       "<pre>recommendations finished on 32000/138452 queries. users per second: 3975.24</pre>"
      ],
      "text/plain": [
       "recommendations finished on 32000/138452 queries. users per second: 3975.24"
      ]
     },
     "metadata": {},
     "output_type": "display_data"
    },
    {
     "data": {
      "text/html": [
       "<pre>recommendations finished on 33000/138452 queries. users per second: 3987.05</pre>"
      ],
      "text/plain": [
       "recommendations finished on 33000/138452 queries. users per second: 3987.05"
      ]
     },
     "metadata": {},
     "output_type": "display_data"
    },
    {
     "data": {
      "text/html": [
       "<pre>recommendations finished on 34000/138452 queries. users per second: 3986.05</pre>"
      ],
      "text/plain": [
       "recommendations finished on 34000/138452 queries. users per second: 3986.05"
      ]
     },
     "metadata": {},
     "output_type": "display_data"
    },
    {
     "data": {
      "text/html": [
       "<pre>recommendations finished on 35000/138452 queries. users per second: 3963.43</pre>"
      ],
      "text/plain": [
       "recommendations finished on 35000/138452 queries. users per second: 3963.43"
      ]
     },
     "metadata": {},
     "output_type": "display_data"
    },
    {
     "data": {
      "text/html": [
       "<pre>recommendations finished on 36000/138452 queries. users per second: 3972.32</pre>"
      ],
      "text/plain": [
       "recommendations finished on 36000/138452 queries. users per second: 3972.32"
      ]
     },
     "metadata": {},
     "output_type": "display_data"
    },
    {
     "data": {
      "text/html": [
       "<pre>recommendations finished on 37000/138452 queries. users per second: 3959.91</pre>"
      ],
      "text/plain": [
       "recommendations finished on 37000/138452 queries. users per second: 3959.91"
      ]
     },
     "metadata": {},
     "output_type": "display_data"
    },
    {
     "data": {
      "text/html": [
       "<pre>recommendations finished on 38000/138452 queries. users per second: 3959.3</pre>"
      ],
      "text/plain": [
       "recommendations finished on 38000/138452 queries. users per second: 3959.3"
      ]
     },
     "metadata": {},
     "output_type": "display_data"
    },
    {
     "data": {
      "text/html": [
       "<pre>recommendations finished on 39000/138452 queries. users per second: 3939.94</pre>"
      ],
      "text/plain": [
       "recommendations finished on 39000/138452 queries. users per second: 3939.94"
      ]
     },
     "metadata": {},
     "output_type": "display_data"
    },
    {
     "data": {
      "text/html": [
       "<pre>recommendations finished on 40000/138452 queries. users per second: 3949.19</pre>"
      ],
      "text/plain": [
       "recommendations finished on 40000/138452 queries. users per second: 3949.19"
      ]
     },
     "metadata": {},
     "output_type": "display_data"
    },
    {
     "data": {
      "text/html": [
       "<pre>recommendations finished on 41000/138452 queries. users per second: 3917.21</pre>"
      ],
      "text/plain": [
       "recommendations finished on 41000/138452 queries. users per second: 3917.21"
      ]
     },
     "metadata": {},
     "output_type": "display_data"
    },
    {
     "data": {
      "text/html": [
       "<pre>recommendations finished on 42000/138452 queries. users per second: 3921.7</pre>"
      ],
      "text/plain": [
       "recommendations finished on 42000/138452 queries. users per second: 3921.7"
      ]
     },
     "metadata": {},
     "output_type": "display_data"
    },
    {
     "data": {
      "text/html": [
       "<pre>recommendations finished on 43000/138452 queries. users per second: 3910.99</pre>"
      ],
      "text/plain": [
       "recommendations finished on 43000/138452 queries. users per second: 3910.99"
      ]
     },
     "metadata": {},
     "output_type": "display_data"
    },
    {
     "data": {
      "text/html": [
       "<pre>recommendations finished on 44000/138452 queries. users per second: 3893.58</pre>"
      ],
      "text/plain": [
       "recommendations finished on 44000/138452 queries. users per second: 3893.58"
      ]
     },
     "metadata": {},
     "output_type": "display_data"
    },
    {
     "data": {
      "text/html": [
       "<pre>recommendations finished on 45000/138452 queries. users per second: 3870.4</pre>"
      ],
      "text/plain": [
       "recommendations finished on 45000/138452 queries. users per second: 3870.4"
      ]
     },
     "metadata": {},
     "output_type": "display_data"
    },
    {
     "data": {
      "text/html": [
       "<pre>recommendations finished on 46000/138452 queries. users per second: 3855.3</pre>"
      ],
      "text/plain": [
       "recommendations finished on 46000/138452 queries. users per second: 3855.3"
      ]
     },
     "metadata": {},
     "output_type": "display_data"
    },
    {
     "data": {
      "text/html": [
       "<pre>recommendations finished on 47000/138452 queries. users per second: 3865.57</pre>"
      ],
      "text/plain": [
       "recommendations finished on 47000/138452 queries. users per second: 3865.57"
      ]
     },
     "metadata": {},
     "output_type": "display_data"
    },
    {
     "data": {
      "text/html": [
       "<pre>recommendations finished on 48000/138452 queries. users per second: 3872.94</pre>"
      ],
      "text/plain": [
       "recommendations finished on 48000/138452 queries. users per second: 3872.94"
      ]
     },
     "metadata": {},
     "output_type": "display_data"
    },
    {
     "data": {
      "text/html": [
       "<pre>recommendations finished on 49000/138452 queries. users per second: 3877.91</pre>"
      ],
      "text/plain": [
       "recommendations finished on 49000/138452 queries. users per second: 3877.91"
      ]
     },
     "metadata": {},
     "output_type": "display_data"
    },
    {
     "data": {
      "text/html": [
       "<pre>recommendations finished on 50000/138452 queries. users per second: 3877.57</pre>"
      ],
      "text/plain": [
       "recommendations finished on 50000/138452 queries. users per second: 3877.57"
      ]
     },
     "metadata": {},
     "output_type": "display_data"
    },
    {
     "data": {
      "text/html": [
       "<pre>recommendations finished on 51000/138452 queries. users per second: 3882.56</pre>"
      ],
      "text/plain": [
       "recommendations finished on 51000/138452 queries. users per second: 3882.56"
      ]
     },
     "metadata": {},
     "output_type": "display_data"
    },
    {
     "data": {
      "text/html": [
       "<pre>recommendations finished on 52000/138452 queries. users per second: 3889.4</pre>"
      ],
      "text/plain": [
       "recommendations finished on 52000/138452 queries. users per second: 3889.4"
      ]
     },
     "metadata": {},
     "output_type": "display_data"
    },
    {
     "data": {
      "text/html": [
       "<pre>recommendations finished on 53000/138452 queries. users per second: 3894.58</pre>"
      ],
      "text/plain": [
       "recommendations finished on 53000/138452 queries. users per second: 3894.58"
      ]
     },
     "metadata": {},
     "output_type": "display_data"
    },
    {
     "data": {
      "text/html": [
       "<pre>recommendations finished on 54000/138452 queries. users per second: 3900.13</pre>"
      ],
      "text/plain": [
       "recommendations finished on 54000/138452 queries. users per second: 3900.13"
      ]
     },
     "metadata": {},
     "output_type": "display_data"
    },
    {
     "data": {
      "text/html": [
       "<pre>recommendations finished on 55000/138452 queries. users per second: 3896.62</pre>"
      ],
      "text/plain": [
       "recommendations finished on 55000/138452 queries. users per second: 3896.62"
      ]
     },
     "metadata": {},
     "output_type": "display_data"
    },
    {
     "data": {
      "text/html": [
       "<pre>recommendations finished on 56000/138452 queries. users per second: 3894.37</pre>"
      ],
      "text/plain": [
       "recommendations finished on 56000/138452 queries. users per second: 3894.37"
      ]
     },
     "metadata": {},
     "output_type": "display_data"
    },
    {
     "data": {
      "text/html": [
       "<pre>recommendations finished on 57000/138452 queries. users per second: 3893.52</pre>"
      ],
      "text/plain": [
       "recommendations finished on 57000/138452 queries. users per second: 3893.52"
      ]
     },
     "metadata": {},
     "output_type": "display_data"
    },
    {
     "data": {
      "text/html": [
       "<pre>recommendations finished on 58000/138452 queries. users per second: 3900.29</pre>"
      ],
      "text/plain": [
       "recommendations finished on 58000/138452 queries. users per second: 3900.29"
      ]
     },
     "metadata": {},
     "output_type": "display_data"
    },
    {
     "data": {
      "text/html": [
       "<pre>recommendations finished on 59000/138452 queries. users per second: 3909.3</pre>"
      ],
      "text/plain": [
       "recommendations finished on 59000/138452 queries. users per second: 3909.3"
      ]
     },
     "metadata": {},
     "output_type": "display_data"
    },
    {
     "data": {
      "text/html": [
       "<pre>recommendations finished on 60000/138452 queries. users per second: 3915.5</pre>"
      ],
      "text/plain": [
       "recommendations finished on 60000/138452 queries. users per second: 3915.5"
      ]
     },
     "metadata": {},
     "output_type": "display_data"
    },
    {
     "data": {
      "text/html": [
       "<pre>recommendations finished on 61000/138452 queries. users per second: 3923.15</pre>"
      ],
      "text/plain": [
       "recommendations finished on 61000/138452 queries. users per second: 3923.15"
      ]
     },
     "metadata": {},
     "output_type": "display_data"
    },
    {
     "data": {
      "text/html": [
       "<pre>recommendations finished on 62000/138452 queries. users per second: 3927.84</pre>"
      ],
      "text/plain": [
       "recommendations finished on 62000/138452 queries. users per second: 3927.84"
      ]
     },
     "metadata": {},
     "output_type": "display_data"
    },
    {
     "data": {
      "text/html": [
       "<pre>recommendations finished on 63000/138452 queries. users per second: 3934.49</pre>"
      ],
      "text/plain": [
       "recommendations finished on 63000/138452 queries. users per second: 3934.49"
      ]
     },
     "metadata": {},
     "output_type": "display_data"
    },
    {
     "data": {
      "text/html": [
       "<pre>recommendations finished on 64000/138452 queries. users per second: 3940.35</pre>"
      ],
      "text/plain": [
       "recommendations finished on 64000/138452 queries. users per second: 3940.35"
      ]
     },
     "metadata": {},
     "output_type": "display_data"
    },
    {
     "data": {
      "text/html": [
       "<pre>recommendations finished on 65000/138452 queries. users per second: 3946.04</pre>"
      ],
      "text/plain": [
       "recommendations finished on 65000/138452 queries. users per second: 3946.04"
      ]
     },
     "metadata": {},
     "output_type": "display_data"
    },
    {
     "data": {
      "text/html": [
       "<pre>recommendations finished on 66000/138452 queries. users per second: 3950.98</pre>"
      ],
      "text/plain": [
       "recommendations finished on 66000/138452 queries. users per second: 3950.98"
      ]
     },
     "metadata": {},
     "output_type": "display_data"
    },
    {
     "data": {
      "text/html": [
       "<pre>recommendations finished on 67000/138452 queries. users per second: 3957.77</pre>"
      ],
      "text/plain": [
       "recommendations finished on 67000/138452 queries. users per second: 3957.77"
      ]
     },
     "metadata": {},
     "output_type": "display_data"
    },
    {
     "data": {
      "text/html": [
       "<pre>recommendations finished on 68000/138452 queries. users per second: 3964.15</pre>"
      ],
      "text/plain": [
       "recommendations finished on 68000/138452 queries. users per second: 3964.15"
      ]
     },
     "metadata": {},
     "output_type": "display_data"
    },
    {
     "data": {
      "text/html": [
       "<pre>recommendations finished on 69000/138452 queries. users per second: 3966.49</pre>"
      ],
      "text/plain": [
       "recommendations finished on 69000/138452 queries. users per second: 3966.49"
      ]
     },
     "metadata": {},
     "output_type": "display_data"
    },
    {
     "data": {
      "text/html": [
       "<pre>recommendations finished on 70000/138452 queries. users per second: 3971.92</pre>"
      ],
      "text/plain": [
       "recommendations finished on 70000/138452 queries. users per second: 3971.92"
      ]
     },
     "metadata": {},
     "output_type": "display_data"
    },
    {
     "data": {
      "text/html": [
       "<pre>recommendations finished on 71000/138452 queries. users per second: 3976.32</pre>"
      ],
      "text/plain": [
       "recommendations finished on 71000/138452 queries. users per second: 3976.32"
      ]
     },
     "metadata": {},
     "output_type": "display_data"
    },
    {
     "data": {
      "text/html": [
       "<pre>recommendations finished on 72000/138452 queries. users per second: 3982.81</pre>"
      ],
      "text/plain": [
       "recommendations finished on 72000/138452 queries. users per second: 3982.81"
      ]
     },
     "metadata": {},
     "output_type": "display_data"
    },
    {
     "data": {
      "text/html": [
       "<pre>recommendations finished on 73000/138452 queries. users per second: 3988.26</pre>"
      ],
      "text/plain": [
       "recommendations finished on 73000/138452 queries. users per second: 3988.26"
      ]
     },
     "metadata": {},
     "output_type": "display_data"
    },
    {
     "data": {
      "text/html": [
       "<pre>recommendations finished on 74000/138452 queries. users per second: 3992.09</pre>"
      ],
      "text/plain": [
       "recommendations finished on 74000/138452 queries. users per second: 3992.09"
      ]
     },
     "metadata": {},
     "output_type": "display_data"
    },
    {
     "data": {
      "text/html": [
       "<pre>recommendations finished on 75000/138452 queries. users per second: 3996.65</pre>"
      ],
      "text/plain": [
       "recommendations finished on 75000/138452 queries. users per second: 3996.65"
      ]
     },
     "metadata": {},
     "output_type": "display_data"
    },
    {
     "data": {
      "text/html": [
       "<pre>recommendations finished on 76000/138452 queries. users per second: 4002.17</pre>"
      ],
      "text/plain": [
       "recommendations finished on 76000/138452 queries. users per second: 4002.17"
      ]
     },
     "metadata": {},
     "output_type": "display_data"
    },
    {
     "data": {
      "text/html": [
       "<pre>recommendations finished on 77000/138452 queries. users per second: 3998.61</pre>"
      ],
      "text/plain": [
       "recommendations finished on 77000/138452 queries. users per second: 3998.61"
      ]
     },
     "metadata": {},
     "output_type": "display_data"
    },
    {
     "data": {
      "text/html": [
       "<pre>recommendations finished on 78000/138452 queries. users per second: 3994.94</pre>"
      ],
      "text/plain": [
       "recommendations finished on 78000/138452 queries. users per second: 3994.94"
      ]
     },
     "metadata": {},
     "output_type": "display_data"
    },
    {
     "data": {
      "text/html": [
       "<pre>recommendations finished on 79000/138452 queries. users per second: 3997.53</pre>"
      ],
      "text/plain": [
       "recommendations finished on 79000/138452 queries. users per second: 3997.53"
      ]
     },
     "metadata": {},
     "output_type": "display_data"
    },
    {
     "data": {
      "text/html": [
       "<pre>recommendations finished on 80000/138452 queries. users per second: 4001.06</pre>"
      ],
      "text/plain": [
       "recommendations finished on 80000/138452 queries. users per second: 4001.06"
      ]
     },
     "metadata": {},
     "output_type": "display_data"
    },
    {
     "data": {
      "text/html": [
       "<pre>recommendations finished on 81000/138452 queries. users per second: 4005.61</pre>"
      ],
      "text/plain": [
       "recommendations finished on 81000/138452 queries. users per second: 4005.61"
      ]
     },
     "metadata": {},
     "output_type": "display_data"
    },
    {
     "data": {
      "text/html": [
       "<pre>recommendations finished on 82000/138452 queries. users per second: 4010.43</pre>"
      ],
      "text/plain": [
       "recommendations finished on 82000/138452 queries. users per second: 4010.43"
      ]
     },
     "metadata": {},
     "output_type": "display_data"
    },
    {
     "data": {
      "text/html": [
       "<pre>recommendations finished on 83000/138452 queries. users per second: 4013.22</pre>"
      ],
      "text/plain": [
       "recommendations finished on 83000/138452 queries. users per second: 4013.22"
      ]
     },
     "metadata": {},
     "output_type": "display_data"
    },
    {
     "data": {
      "text/html": [
       "<pre>recommendations finished on 84000/138452 queries. users per second: 4016.52</pre>"
      ],
      "text/plain": [
       "recommendations finished on 84000/138452 queries. users per second: 4016.52"
      ]
     },
     "metadata": {},
     "output_type": "display_data"
    },
    {
     "data": {
      "text/html": [
       "<pre>recommendations finished on 85000/138452 queries. users per second: 4019.73</pre>"
      ],
      "text/plain": [
       "recommendations finished on 85000/138452 queries. users per second: 4019.73"
      ]
     },
     "metadata": {},
     "output_type": "display_data"
    },
    {
     "data": {
      "text/html": [
       "<pre>recommendations finished on 86000/138452 queries. users per second: 4024.21</pre>"
      ],
      "text/plain": [
       "recommendations finished on 86000/138452 queries. users per second: 4024.21"
      ]
     },
     "metadata": {},
     "output_type": "display_data"
    },
    {
     "data": {
      "text/html": [
       "<pre>recommendations finished on 87000/138452 queries. users per second: 4027.46</pre>"
      ],
      "text/plain": [
       "recommendations finished on 87000/138452 queries. users per second: 4027.46"
      ]
     },
     "metadata": {},
     "output_type": "display_data"
    },
    {
     "data": {
      "text/html": [
       "<pre>recommendations finished on 88000/138452 queries. users per second: 4030.66</pre>"
      ],
      "text/plain": [
       "recommendations finished on 88000/138452 queries. users per second: 4030.66"
      ]
     },
     "metadata": {},
     "output_type": "display_data"
    },
    {
     "data": {
      "text/html": [
       "<pre>recommendations finished on 89000/138452 queries. users per second: 4034.34</pre>"
      ],
      "text/plain": [
       "recommendations finished on 89000/138452 queries. users per second: 4034.34"
      ]
     },
     "metadata": {},
     "output_type": "display_data"
    },
    {
     "data": {
      "text/html": [
       "<pre>recommendations finished on 90000/138452 queries. users per second: 4036.21</pre>"
      ],
      "text/plain": [
       "recommendations finished on 90000/138452 queries. users per second: 4036.21"
      ]
     },
     "metadata": {},
     "output_type": "display_data"
    },
    {
     "data": {
      "text/html": [
       "<pre>recommendations finished on 91000/138452 queries. users per second: 4037.68</pre>"
      ],
      "text/plain": [
       "recommendations finished on 91000/138452 queries. users per second: 4037.68"
      ]
     },
     "metadata": {},
     "output_type": "display_data"
    },
    {
     "data": {
      "text/html": [
       "<pre>recommendations finished on 92000/138452 queries. users per second: 4039.4</pre>"
      ],
      "text/plain": [
       "recommendations finished on 92000/138452 queries. users per second: 4039.4"
      ]
     },
     "metadata": {},
     "output_type": "display_data"
    },
    {
     "data": {
      "text/html": [
       "<pre>recommendations finished on 93000/138452 queries. users per second: 4042.25</pre>"
      ],
      "text/plain": [
       "recommendations finished on 93000/138452 queries. users per second: 4042.25"
      ]
     },
     "metadata": {},
     "output_type": "display_data"
    },
    {
     "data": {
      "text/html": [
       "<pre>recommendations finished on 94000/138452 queries. users per second: 4045.67</pre>"
      ],
      "text/plain": [
       "recommendations finished on 94000/138452 queries. users per second: 4045.67"
      ]
     },
     "metadata": {},
     "output_type": "display_data"
    },
    {
     "data": {
      "text/html": [
       "<pre>recommendations finished on 95000/138452 queries. users per second: 4047.43</pre>"
      ],
      "text/plain": [
       "recommendations finished on 95000/138452 queries. users per second: 4047.43"
      ]
     },
     "metadata": {},
     "output_type": "display_data"
    },
    {
     "data": {
      "text/html": [
       "<pre>recommendations finished on 96000/138452 queries. users per second: 4050.85</pre>"
      ],
      "text/plain": [
       "recommendations finished on 96000/138452 queries. users per second: 4050.85"
      ]
     },
     "metadata": {},
     "output_type": "display_data"
    },
    {
     "data": {
      "text/html": [
       "<pre>recommendations finished on 97000/138452 queries. users per second: 4053.37</pre>"
      ],
      "text/plain": [
       "recommendations finished on 97000/138452 queries. users per second: 4053.37"
      ]
     },
     "metadata": {},
     "output_type": "display_data"
    },
    {
     "data": {
      "text/html": [
       "<pre>recommendations finished on 98000/138452 queries. users per second: 4051.48</pre>"
      ],
      "text/plain": [
       "recommendations finished on 98000/138452 queries. users per second: 4051.48"
      ]
     },
     "metadata": {},
     "output_type": "display_data"
    },
    {
     "data": {
      "text/html": [
       "<pre>recommendations finished on 99000/138452 queries. users per second: 4049.46</pre>"
      ],
      "text/plain": [
       "recommendations finished on 99000/138452 queries. users per second: 4049.46"
      ]
     },
     "metadata": {},
     "output_type": "display_data"
    },
    {
     "data": {
      "text/html": [
       "<pre>recommendations finished on 100000/138452 queries. users per second: 4050.77</pre>"
      ],
      "text/plain": [
       "recommendations finished on 100000/138452 queries. users per second: 4050.77"
      ]
     },
     "metadata": {},
     "output_type": "display_data"
    },
    {
     "data": {
      "text/html": [
       "<pre>recommendations finished on 101000/138452 queries. users per second: 4053.83</pre>"
      ],
      "text/plain": [
       "recommendations finished on 101000/138452 queries. users per second: 4053.83"
      ]
     },
     "metadata": {},
     "output_type": "display_data"
    },
    {
     "data": {
      "text/html": [
       "<pre>recommendations finished on 102000/138452 queries. users per second: 4057.66</pre>"
      ],
      "text/plain": [
       "recommendations finished on 102000/138452 queries. users per second: 4057.66"
      ]
     },
     "metadata": {},
     "output_type": "display_data"
    },
    {
     "data": {
      "text/html": [
       "<pre>recommendations finished on 103000/138452 queries. users per second: 4060.45</pre>"
      ],
      "text/plain": [
       "recommendations finished on 103000/138452 queries. users per second: 4060.45"
      ]
     },
     "metadata": {},
     "output_type": "display_data"
    },
    {
     "data": {
      "text/html": [
       "<pre>recommendations finished on 104000/138452 queries. users per second: 4063.82</pre>"
      ],
      "text/plain": [
       "recommendations finished on 104000/138452 queries. users per second: 4063.82"
      ]
     },
     "metadata": {},
     "output_type": "display_data"
    },
    {
     "data": {
      "text/html": [
       "<pre>recommendations finished on 105000/138452 queries. users per second: 4066.51</pre>"
      ],
      "text/plain": [
       "recommendations finished on 105000/138452 queries. users per second: 4066.51"
      ]
     },
     "metadata": {},
     "output_type": "display_data"
    },
    {
     "data": {
      "text/html": [
       "<pre>recommendations finished on 106000/138452 queries. users per second: 4069.15</pre>"
      ],
      "text/plain": [
       "recommendations finished on 106000/138452 queries. users per second: 4069.15"
      ]
     },
     "metadata": {},
     "output_type": "display_data"
    },
    {
     "data": {
      "text/html": [
       "<pre>recommendations finished on 107000/138452 queries. users per second: 4072.06</pre>"
      ],
      "text/plain": [
       "recommendations finished on 107000/138452 queries. users per second: 4072.06"
      ]
     },
     "metadata": {},
     "output_type": "display_data"
    },
    {
     "data": {
      "text/html": [
       "<pre>recommendations finished on 108000/138452 queries. users per second: 4071.69</pre>"
      ],
      "text/plain": [
       "recommendations finished on 108000/138452 queries. users per second: 4071.69"
      ]
     },
     "metadata": {},
     "output_type": "display_data"
    },
    {
     "data": {
      "text/html": [
       "<pre>recommendations finished on 109000/138452 queries. users per second: 4073.76</pre>"
      ],
      "text/plain": [
       "recommendations finished on 109000/138452 queries. users per second: 4073.76"
      ]
     },
     "metadata": {},
     "output_type": "display_data"
    },
    {
     "data": {
      "text/html": [
       "<pre>recommendations finished on 110000/138452 queries. users per second: 4076.25</pre>"
      ],
      "text/plain": [
       "recommendations finished on 110000/138452 queries. users per second: 4076.25"
      ]
     },
     "metadata": {},
     "output_type": "display_data"
    },
    {
     "data": {
      "text/html": [
       "<pre>recommendations finished on 111000/138452 queries. users per second: 4078.84</pre>"
      ],
      "text/plain": [
       "recommendations finished on 111000/138452 queries. users per second: 4078.84"
      ]
     },
     "metadata": {},
     "output_type": "display_data"
    },
    {
     "data": {
      "text/html": [
       "<pre>recommendations finished on 112000/138452 queries. users per second: 4081.4</pre>"
      ],
      "text/plain": [
       "recommendations finished on 112000/138452 queries. users per second: 4081.4"
      ]
     },
     "metadata": {},
     "output_type": "display_data"
    },
    {
     "data": {
      "text/html": [
       "<pre>recommendations finished on 113000/138452 queries. users per second: 4083.76</pre>"
      ],
      "text/plain": [
       "recommendations finished on 113000/138452 queries. users per second: 4083.76"
      ]
     },
     "metadata": {},
     "output_type": "display_data"
    },
    {
     "data": {
      "text/html": [
       "<pre>recommendations finished on 114000/138452 queries. users per second: 4083.01</pre>"
      ],
      "text/plain": [
       "recommendations finished on 114000/138452 queries. users per second: 4083.01"
      ]
     },
     "metadata": {},
     "output_type": "display_data"
    },
    {
     "data": {
      "text/html": [
       "<pre>recommendations finished on 115000/138452 queries. users per second: 4085.75</pre>"
      ],
      "text/plain": [
       "recommendations finished on 115000/138452 queries. users per second: 4085.75"
      ]
     },
     "metadata": {},
     "output_type": "display_data"
    },
    {
     "data": {
      "text/html": [
       "<pre>recommendations finished on 116000/138452 queries. users per second: 4088.44</pre>"
      ],
      "text/plain": [
       "recommendations finished on 116000/138452 queries. users per second: 4088.44"
      ]
     },
     "metadata": {},
     "output_type": "display_data"
    },
    {
     "data": {
      "text/html": [
       "<pre>recommendations finished on 117000/138452 queries. users per second: 4089.81</pre>"
      ],
      "text/plain": [
       "recommendations finished on 117000/138452 queries. users per second: 4089.81"
      ]
     },
     "metadata": {},
     "output_type": "display_data"
    },
    {
     "data": {
      "text/html": [
       "<pre>recommendations finished on 118000/138452 queries. users per second: 4091.87</pre>"
      ],
      "text/plain": [
       "recommendations finished on 118000/138452 queries. users per second: 4091.87"
      ]
     },
     "metadata": {},
     "output_type": "display_data"
    },
    {
     "data": {
      "text/html": [
       "<pre>recommendations finished on 119000/138452 queries. users per second: 4091.92</pre>"
      ],
      "text/plain": [
       "recommendations finished on 119000/138452 queries. users per second: 4091.92"
      ]
     },
     "metadata": {},
     "output_type": "display_data"
    },
    {
     "data": {
      "text/html": [
       "<pre>recommendations finished on 120000/138452 queries. users per second: 4088.35</pre>"
      ],
      "text/plain": [
       "recommendations finished on 120000/138452 queries. users per second: 4088.35"
      ]
     },
     "metadata": {},
     "output_type": "display_data"
    },
    {
     "data": {
      "text/html": [
       "<pre>recommendations finished on 121000/138452 queries. users per second: 4087.75</pre>"
      ],
      "text/plain": [
       "recommendations finished on 121000/138452 queries. users per second: 4087.75"
      ]
     },
     "metadata": {},
     "output_type": "display_data"
    },
    {
     "data": {
      "text/html": [
       "<pre>recommendations finished on 122000/138452 queries. users per second: 4090.03</pre>"
      ],
      "text/plain": [
       "recommendations finished on 122000/138452 queries. users per second: 4090.03"
      ]
     },
     "metadata": {},
     "output_type": "display_data"
    },
    {
     "data": {
      "text/html": [
       "<pre>recommendations finished on 123000/138452 queries. users per second: 4092.13</pre>"
      ],
      "text/plain": [
       "recommendations finished on 123000/138452 queries. users per second: 4092.13"
      ]
     },
     "metadata": {},
     "output_type": "display_data"
    },
    {
     "data": {
      "text/html": [
       "<pre>recommendations finished on 124000/138452 queries. users per second: 4094.21</pre>"
      ],
      "text/plain": [
       "recommendations finished on 124000/138452 queries. users per second: 4094.21"
      ]
     },
     "metadata": {},
     "output_type": "display_data"
    },
    {
     "data": {
      "text/html": [
       "<pre>recommendations finished on 125000/138452 queries. users per second: 4094.78</pre>"
      ],
      "text/plain": [
       "recommendations finished on 125000/138452 queries. users per second: 4094.78"
      ]
     },
     "metadata": {},
     "output_type": "display_data"
    },
    {
     "data": {
      "text/html": [
       "<pre>recommendations finished on 126000/138452 queries. users per second: 4096.41</pre>"
      ],
      "text/plain": [
       "recommendations finished on 126000/138452 queries. users per second: 4096.41"
      ]
     },
     "metadata": {},
     "output_type": "display_data"
    },
    {
     "data": {
      "text/html": [
       "<pre>recommendations finished on 127000/138452 queries. users per second: 4097.22</pre>"
      ],
      "text/plain": [
       "recommendations finished on 127000/138452 queries. users per second: 4097.22"
      ]
     },
     "metadata": {},
     "output_type": "display_data"
    },
    {
     "data": {
      "text/html": [
       "<pre>recommendations finished on 128000/138452 queries. users per second: 4098.41</pre>"
      ],
      "text/plain": [
       "recommendations finished on 128000/138452 queries. users per second: 4098.41"
      ]
     },
     "metadata": {},
     "output_type": "display_data"
    },
    {
     "data": {
      "text/html": [
       "<pre>recommendations finished on 129000/138452 queries. users per second: 4100.1</pre>"
      ],
      "text/plain": [
       "recommendations finished on 129000/138452 queries. users per second: 4100.1"
      ]
     },
     "metadata": {},
     "output_type": "display_data"
    },
    {
     "data": {
      "text/html": [
       "<pre>recommendations finished on 130000/138452 queries. users per second: 4101.9</pre>"
      ],
      "text/plain": [
       "recommendations finished on 130000/138452 queries. users per second: 4101.9"
      ]
     },
     "metadata": {},
     "output_type": "display_data"
    },
    {
     "data": {
      "text/html": [
       "<pre>recommendations finished on 131000/138452 queries. users per second: 4103.28</pre>"
      ],
      "text/plain": [
       "recommendations finished on 131000/138452 queries. users per second: 4103.28"
      ]
     },
     "metadata": {},
     "output_type": "display_data"
    },
    {
     "data": {
      "text/html": [
       "<pre>recommendations finished on 132000/138452 queries. users per second: 4105.03</pre>"
      ],
      "text/plain": [
       "recommendations finished on 132000/138452 queries. users per second: 4105.03"
      ]
     },
     "metadata": {},
     "output_type": "display_data"
    },
    {
     "data": {
      "text/html": [
       "<pre>recommendations finished on 133000/138452 queries. users per second: 4107.01</pre>"
      ],
      "text/plain": [
       "recommendations finished on 133000/138452 queries. users per second: 4107.01"
      ]
     },
     "metadata": {},
     "output_type": "display_data"
    },
    {
     "data": {
      "text/html": [
       "<pre>recommendations finished on 134000/138452 queries. users per second: 4108.97</pre>"
      ],
      "text/plain": [
       "recommendations finished on 134000/138452 queries. users per second: 4108.97"
      ]
     },
     "metadata": {},
     "output_type": "display_data"
    },
    {
     "data": {
      "text/html": [
       "<pre>recommendations finished on 135000/138452 queries. users per second: 4109.13</pre>"
      ],
      "text/plain": [
       "recommendations finished on 135000/138452 queries. users per second: 4109.13"
      ]
     },
     "metadata": {},
     "output_type": "display_data"
    },
    {
     "data": {
      "text/html": [
       "<pre>recommendations finished on 136000/138452 queries. users per second: 4106.33</pre>"
      ],
      "text/plain": [
       "recommendations finished on 136000/138452 queries. users per second: 4106.33"
      ]
     },
     "metadata": {},
     "output_type": "display_data"
    },
    {
     "data": {
      "text/html": [
       "<pre>recommendations finished on 137000/138452 queries. users per second: 4099.76</pre>"
      ],
      "text/plain": [
       "recommendations finished on 137000/138452 queries. users per second: 4099.76"
      ]
     },
     "metadata": {},
     "output_type": "display_data"
    },
    {
     "data": {
      "text/html": [
       "<pre>recommendations finished on 138000/138452 queries. users per second: 4093.42</pre>"
      ],
      "text/plain": [
       "recommendations finished on 138000/138452 queries. users per second: 4093.42"
      ]
     },
     "metadata": {},
     "output_type": "display_data"
    },
    {
     "name": "stdout",
     "output_type": "stream",
     "text": [
      "\n",
      "Precision and recall summary statistics by cutoff\n",
      "+--------+-------------------+-------------------+\n",
      "| cutoff |   mean_precision  |    mean_recall    |\n",
      "+--------+-------------------+-------------------+\n",
      "|   1    |        0.0        |        0.0        |\n",
      "|   2    |        0.0        |        0.0        |\n",
      "|   3    |        0.0        |        0.0        |\n",
      "|   4    |        0.0        |        0.0        |\n",
      "|   5    |        0.0        |        0.0        |\n",
      "|   6    |        0.0        |        0.0        |\n",
      "|   7    | 2.06363422496e-06 | 6.31319211044e-08 |\n",
      "|   8    | 1.80567994684e-06 | 6.31319211044e-08 |\n",
      "|   9    | 2.40757326245e-06 | 7.01716090063e-08 |\n",
      "|   10   | 2.88908791495e-06 | 3.03162569889e-07 |\n",
      "+--------+-------------------+-------------------+\n",
      "[10 rows x 3 columns]\n",
      "\n",
      "PROGRESS: Evaluate model M1\n"
     ]
    },
    {
     "data": {
      "text/html": [
       "<pre>recommendations finished on 1000/138452 queries. users per second: 3089.77</pre>"
      ],
      "text/plain": [
       "recommendations finished on 1000/138452 queries. users per second: 3089.77"
      ]
     },
     "metadata": {},
     "output_type": "display_data"
    },
    {
     "data": {
      "text/html": [
       "<pre>recommendations finished on 2000/138452 queries. users per second: 2935.96</pre>"
      ],
      "text/plain": [
       "recommendations finished on 2000/138452 queries. users per second: 2935.96"
      ]
     },
     "metadata": {},
     "output_type": "display_data"
    },
    {
     "data": {
      "text/html": [
       "<pre>recommendations finished on 3000/138452 queries. users per second: 2829.67</pre>"
      ],
      "text/plain": [
       "recommendations finished on 3000/138452 queries. users per second: 2829.67"
      ]
     },
     "metadata": {},
     "output_type": "display_data"
    },
    {
     "data": {
      "text/html": [
       "<pre>recommendations finished on 4000/138452 queries. users per second: 2774.52</pre>"
      ],
      "text/plain": [
       "recommendations finished on 4000/138452 queries. users per second: 2774.52"
      ]
     },
     "metadata": {},
     "output_type": "display_data"
    },
    {
     "data": {
      "text/html": [
       "<pre>recommendations finished on 5000/138452 queries. users per second: 2741.74</pre>"
      ],
      "text/plain": [
       "recommendations finished on 5000/138452 queries. users per second: 2741.74"
      ]
     },
     "metadata": {},
     "output_type": "display_data"
    },
    {
     "data": {
      "text/html": [
       "<pre>recommendations finished on 6000/138452 queries. users per second: 2701.67</pre>"
      ],
      "text/plain": [
       "recommendations finished on 6000/138452 queries. users per second: 2701.67"
      ]
     },
     "metadata": {},
     "output_type": "display_data"
    },
    {
     "data": {
      "text/html": [
       "<pre>recommendations finished on 7000/138452 queries. users per second: 2676.99</pre>"
      ],
      "text/plain": [
       "recommendations finished on 7000/138452 queries. users per second: 2676.99"
      ]
     },
     "metadata": {},
     "output_type": "display_data"
    },
    {
     "data": {
      "text/html": [
       "<pre>recommendations finished on 8000/138452 queries. users per second: 2586.84</pre>"
      ],
      "text/plain": [
       "recommendations finished on 8000/138452 queries. users per second: 2586.84"
      ]
     },
     "metadata": {},
     "output_type": "display_data"
    },
    {
     "data": {
      "text/html": [
       "<pre>recommendations finished on 9000/138452 queries. users per second: 2559.42</pre>"
      ],
      "text/plain": [
       "recommendations finished on 9000/138452 queries. users per second: 2559.42"
      ]
     },
     "metadata": {},
     "output_type": "display_data"
    },
    {
     "data": {
      "text/html": [
       "<pre>recommendations finished on 10000/138452 queries. users per second: 2534</pre>"
      ],
      "text/plain": [
       "recommendations finished on 10000/138452 queries. users per second: 2534"
      ]
     },
     "metadata": {},
     "output_type": "display_data"
    },
    {
     "data": {
      "text/html": [
       "<pre>recommendations finished on 11000/138452 queries. users per second: 2517.09</pre>"
      ],
      "text/plain": [
       "recommendations finished on 11000/138452 queries. users per second: 2517.09"
      ]
     },
     "metadata": {},
     "output_type": "display_data"
    },
    {
     "data": {
      "text/html": [
       "<pre>recommendations finished on 12000/138452 queries. users per second: 2500.05</pre>"
      ],
      "text/plain": [
       "recommendations finished on 12000/138452 queries. users per second: 2500.05"
      ]
     },
     "metadata": {},
     "output_type": "display_data"
    },
    {
     "data": {
      "text/html": [
       "<pre>recommendations finished on 13000/138452 queries. users per second: 2493.87</pre>"
      ],
      "text/plain": [
       "recommendations finished on 13000/138452 queries. users per second: 2493.87"
      ]
     },
     "metadata": {},
     "output_type": "display_data"
    },
    {
     "data": {
      "text/html": [
       "<pre>recommendations finished on 14000/138452 queries. users per second: 2490.3</pre>"
      ],
      "text/plain": [
       "recommendations finished on 14000/138452 queries. users per second: 2490.3"
      ]
     },
     "metadata": {},
     "output_type": "display_data"
    },
    {
     "data": {
      "text/html": [
       "<pre>recommendations finished on 15000/138452 queries. users per second: 2493.43</pre>"
      ],
      "text/plain": [
       "recommendations finished on 15000/138452 queries. users per second: 2493.43"
      ]
     },
     "metadata": {},
     "output_type": "display_data"
    },
    {
     "data": {
      "text/html": [
       "<pre>recommendations finished on 16000/138452 queries. users per second: 2498.13</pre>"
      ],
      "text/plain": [
       "recommendations finished on 16000/138452 queries. users per second: 2498.13"
      ]
     },
     "metadata": {},
     "output_type": "display_data"
    },
    {
     "data": {
      "text/html": [
       "<pre>recommendations finished on 17000/138452 queries. users per second: 2509.66</pre>"
      ],
      "text/plain": [
       "recommendations finished on 17000/138452 queries. users per second: 2509.66"
      ]
     },
     "metadata": {},
     "output_type": "display_data"
    },
    {
     "data": {
      "text/html": [
       "<pre>recommendations finished on 18000/138452 queries. users per second: 2514.7</pre>"
      ],
      "text/plain": [
       "recommendations finished on 18000/138452 queries. users per second: 2514.7"
      ]
     },
     "metadata": {},
     "output_type": "display_data"
    },
    {
     "data": {
      "text/html": [
       "<pre>recommendations finished on 19000/138452 queries. users per second: 2516.91</pre>"
      ],
      "text/plain": [
       "recommendations finished on 19000/138452 queries. users per second: 2516.91"
      ]
     },
     "metadata": {},
     "output_type": "display_data"
    },
    {
     "data": {
      "text/html": [
       "<pre>recommendations finished on 20000/138452 queries. users per second: 2498.45</pre>"
      ],
      "text/plain": [
       "recommendations finished on 20000/138452 queries. users per second: 2498.45"
      ]
     },
     "metadata": {},
     "output_type": "display_data"
    },
    {
     "data": {
      "text/html": [
       "<pre>recommendations finished on 21000/138452 queries. users per second: 2491.84</pre>"
      ],
      "text/plain": [
       "recommendations finished on 21000/138452 queries. users per second: 2491.84"
      ]
     },
     "metadata": {},
     "output_type": "display_data"
    },
    {
     "data": {
      "text/html": [
       "<pre>recommendations finished on 22000/138452 queries. users per second: 2492.92</pre>"
      ],
      "text/plain": [
       "recommendations finished on 22000/138452 queries. users per second: 2492.92"
      ]
     },
     "metadata": {},
     "output_type": "display_data"
    },
    {
     "data": {
      "text/html": [
       "<pre>recommendations finished on 23000/138452 queries. users per second: 2482.19</pre>"
      ],
      "text/plain": [
       "recommendations finished on 23000/138452 queries. users per second: 2482.19"
      ]
     },
     "metadata": {},
     "output_type": "display_data"
    },
    {
     "data": {
      "text/html": [
       "<pre>recommendations finished on 24000/138452 queries. users per second: 2483.95</pre>"
      ],
      "text/plain": [
       "recommendations finished on 24000/138452 queries. users per second: 2483.95"
      ]
     },
     "metadata": {},
     "output_type": "display_data"
    },
    {
     "data": {
      "text/html": [
       "<pre>recommendations finished on 25000/138452 queries. users per second: 2485.57</pre>"
      ],
      "text/plain": [
       "recommendations finished on 25000/138452 queries. users per second: 2485.57"
      ]
     },
     "metadata": {},
     "output_type": "display_data"
    },
    {
     "data": {
      "text/html": [
       "<pre>recommendations finished on 26000/138452 queries. users per second: 2489.47</pre>"
      ],
      "text/plain": [
       "recommendations finished on 26000/138452 queries. users per second: 2489.47"
      ]
     },
     "metadata": {},
     "output_type": "display_data"
    },
    {
     "data": {
      "text/html": [
       "<pre>recommendations finished on 27000/138452 queries. users per second: 2498.26</pre>"
      ],
      "text/plain": [
       "recommendations finished on 27000/138452 queries. users per second: 2498.26"
      ]
     },
     "metadata": {},
     "output_type": "display_data"
    },
    {
     "data": {
      "text/html": [
       "<pre>recommendations finished on 28000/138452 queries. users per second: 2504.91</pre>"
      ],
      "text/plain": [
       "recommendations finished on 28000/138452 queries. users per second: 2504.91"
      ]
     },
     "metadata": {},
     "output_type": "display_data"
    },
    {
     "data": {
      "text/html": [
       "<pre>recommendations finished on 29000/138452 queries. users per second: 2512.56</pre>"
      ],
      "text/plain": [
       "recommendations finished on 29000/138452 queries. users per second: 2512.56"
      ]
     },
     "metadata": {},
     "output_type": "display_data"
    },
    {
     "data": {
      "text/html": [
       "<pre>recommendations finished on 30000/138452 queries. users per second: 2518.89</pre>"
      ],
      "text/plain": [
       "recommendations finished on 30000/138452 queries. users per second: 2518.89"
      ]
     },
     "metadata": {},
     "output_type": "display_data"
    },
    {
     "data": {
      "text/html": [
       "<pre>recommendations finished on 31000/138452 queries. users per second: 2526.08</pre>"
      ],
      "text/plain": [
       "recommendations finished on 31000/138452 queries. users per second: 2526.08"
      ]
     },
     "metadata": {},
     "output_type": "display_data"
    },
    {
     "data": {
      "text/html": [
       "<pre>recommendations finished on 32000/138452 queries. users per second: 2530.04</pre>"
      ],
      "text/plain": [
       "recommendations finished on 32000/138452 queries. users per second: 2530.04"
      ]
     },
     "metadata": {},
     "output_type": "display_data"
    },
    {
     "data": {
      "text/html": [
       "<pre>recommendations finished on 33000/138452 queries. users per second: 2521.57</pre>"
      ],
      "text/plain": [
       "recommendations finished on 33000/138452 queries. users per second: 2521.57"
      ]
     },
     "metadata": {},
     "output_type": "display_data"
    },
    {
     "data": {
      "text/html": [
       "<pre>recommendations finished on 34000/138452 queries. users per second: 2521.32</pre>"
      ],
      "text/plain": [
       "recommendations finished on 34000/138452 queries. users per second: 2521.32"
      ]
     },
     "metadata": {},
     "output_type": "display_data"
    },
    {
     "data": {
      "text/html": [
       "<pre>recommendations finished on 35000/138452 queries. users per second: 2523.25</pre>"
      ],
      "text/plain": [
       "recommendations finished on 35000/138452 queries. users per second: 2523.25"
      ]
     },
     "metadata": {},
     "output_type": "display_data"
    },
    {
     "data": {
      "text/html": [
       "<pre>recommendations finished on 36000/138452 queries. users per second: 2522.78</pre>"
      ],
      "text/plain": [
       "recommendations finished on 36000/138452 queries. users per second: 2522.78"
      ]
     },
     "metadata": {},
     "output_type": "display_data"
    },
    {
     "data": {
      "text/html": [
       "<pre>recommendations finished on 37000/138452 queries. users per second: 2525.43</pre>"
      ],
      "text/plain": [
       "recommendations finished on 37000/138452 queries. users per second: 2525.43"
      ]
     },
     "metadata": {},
     "output_type": "display_data"
    },
    {
     "data": {
      "text/html": [
       "<pre>recommendations finished on 38000/138452 queries. users per second: 2526.6</pre>"
      ],
      "text/plain": [
       "recommendations finished on 38000/138452 queries. users per second: 2526.6"
      ]
     },
     "metadata": {},
     "output_type": "display_data"
    },
    {
     "data": {
      "text/html": [
       "<pre>recommendations finished on 39000/138452 queries. users per second: 2528.36</pre>"
      ],
      "text/plain": [
       "recommendations finished on 39000/138452 queries. users per second: 2528.36"
      ]
     },
     "metadata": {},
     "output_type": "display_data"
    },
    {
     "data": {
      "text/html": [
       "<pre>recommendations finished on 40000/138452 queries. users per second: 2531.65</pre>"
      ],
      "text/plain": [
       "recommendations finished on 40000/138452 queries. users per second: 2531.65"
      ]
     },
     "metadata": {},
     "output_type": "display_data"
    },
    {
     "data": {
      "text/html": [
       "<pre>recommendations finished on 41000/138452 queries. users per second: 2531.65</pre>"
      ],
      "text/plain": [
       "recommendations finished on 41000/138452 queries. users per second: 2531.65"
      ]
     },
     "metadata": {},
     "output_type": "display_data"
    },
    {
     "data": {
      "text/html": [
       "<pre>recommendations finished on 42000/138452 queries. users per second: 2533.48</pre>"
      ],
      "text/plain": [
       "recommendations finished on 42000/138452 queries. users per second: 2533.48"
      ]
     },
     "metadata": {},
     "output_type": "display_data"
    },
    {
     "data": {
      "text/html": [
       "<pre>recommendations finished on 43000/138452 queries. users per second: 2533.14</pre>"
      ],
      "text/plain": [
       "recommendations finished on 43000/138452 queries. users per second: 2533.14"
      ]
     },
     "metadata": {},
     "output_type": "display_data"
    },
    {
     "data": {
      "text/html": [
       "<pre>recommendations finished on 44000/138452 queries. users per second: 2532.81</pre>"
      ],
      "text/plain": [
       "recommendations finished on 44000/138452 queries. users per second: 2532.81"
      ]
     },
     "metadata": {},
     "output_type": "display_data"
    },
    {
     "data": {
      "text/html": [
       "<pre>recommendations finished on 45000/138452 queries. users per second: 2529.87</pre>"
      ],
      "text/plain": [
       "recommendations finished on 45000/138452 queries. users per second: 2529.87"
      ]
     },
     "metadata": {},
     "output_type": "display_data"
    },
    {
     "data": {
      "text/html": [
       "<pre>recommendations finished on 46000/138452 queries. users per second: 2516.55</pre>"
      ],
      "text/plain": [
       "recommendations finished on 46000/138452 queries. users per second: 2516.55"
      ]
     },
     "metadata": {},
     "output_type": "display_data"
    },
    {
     "data": {
      "text/html": [
       "<pre>recommendations finished on 47000/138452 queries. users per second: 2517.54</pre>"
      ],
      "text/plain": [
       "recommendations finished on 47000/138452 queries. users per second: 2517.54"
      ]
     },
     "metadata": {},
     "output_type": "display_data"
    },
    {
     "data": {
      "text/html": [
       "<pre>recommendations finished on 48000/138452 queries. users per second: 2517.84</pre>"
      ],
      "text/plain": [
       "recommendations finished on 48000/138452 queries. users per second: 2517.84"
      ]
     },
     "metadata": {},
     "output_type": "display_data"
    },
    {
     "data": {
      "text/html": [
       "<pre>recommendations finished on 49000/138452 queries. users per second: 2517.34</pre>"
      ],
      "text/plain": [
       "recommendations finished on 49000/138452 queries. users per second: 2517.34"
      ]
     },
     "metadata": {},
     "output_type": "display_data"
    },
    {
     "data": {
      "text/html": [
       "<pre>recommendations finished on 50000/138452 queries. users per second: 2517.62</pre>"
      ],
      "text/plain": [
       "recommendations finished on 50000/138452 queries. users per second: 2517.62"
      ]
     },
     "metadata": {},
     "output_type": "display_data"
    },
    {
     "data": {
      "text/html": [
       "<pre>recommendations finished on 51000/138452 queries. users per second: 2518.52</pre>"
      ],
      "text/plain": [
       "recommendations finished on 51000/138452 queries. users per second: 2518.52"
      ]
     },
     "metadata": {},
     "output_type": "display_data"
    },
    {
     "data": {
      "text/html": [
       "<pre>recommendations finished on 52000/138452 queries. users per second: 2519.26</pre>"
      ],
      "text/plain": [
       "recommendations finished on 52000/138452 queries. users per second: 2519.26"
      ]
     },
     "metadata": {},
     "output_type": "display_data"
    },
    {
     "data": {
      "text/html": [
       "<pre>recommendations finished on 53000/138452 queries. users per second: 2519.49</pre>"
      ],
      "text/plain": [
       "recommendations finished on 53000/138452 queries. users per second: 2519.49"
      ]
     },
     "metadata": {},
     "output_type": "display_data"
    },
    {
     "data": {
      "text/html": [
       "<pre>recommendations finished on 54000/138452 queries. users per second: 2518.07</pre>"
      ],
      "text/plain": [
       "recommendations finished on 54000/138452 queries. users per second: 2518.07"
      ]
     },
     "metadata": {},
     "output_type": "display_data"
    },
    {
     "data": {
      "text/html": [
       "<pre>recommendations finished on 55000/138452 queries. users per second: 2518.61</pre>"
      ],
      "text/plain": [
       "recommendations finished on 55000/138452 queries. users per second: 2518.61"
      ]
     },
     "metadata": {},
     "output_type": "display_data"
    },
    {
     "data": {
      "text/html": [
       "<pre>recommendations finished on 56000/138452 queries. users per second: 2519.92</pre>"
      ],
      "text/plain": [
       "recommendations finished on 56000/138452 queries. users per second: 2519.92"
      ]
     },
     "metadata": {},
     "output_type": "display_data"
    },
    {
     "data": {
      "text/html": [
       "<pre>recommendations finished on 57000/138452 queries. users per second: 2521.68</pre>"
      ],
      "text/plain": [
       "recommendations finished on 57000/138452 queries. users per second: 2521.68"
      ]
     },
     "metadata": {},
     "output_type": "display_data"
    },
    {
     "data": {
      "text/html": [
       "<pre>recommendations finished on 58000/138452 queries. users per second: 2518.45</pre>"
      ],
      "text/plain": [
       "recommendations finished on 58000/138452 queries. users per second: 2518.45"
      ]
     },
     "metadata": {},
     "output_type": "display_data"
    },
    {
     "data": {
      "text/html": [
       "<pre>recommendations finished on 59000/138452 queries. users per second: 2519.76</pre>"
      ],
      "text/plain": [
       "recommendations finished on 59000/138452 queries. users per second: 2519.76"
      ]
     },
     "metadata": {},
     "output_type": "display_data"
    },
    {
     "data": {
      "text/html": [
       "<pre>recommendations finished on 60000/138452 queries. users per second: 2523.02</pre>"
      ],
      "text/plain": [
       "recommendations finished on 60000/138452 queries. users per second: 2523.02"
      ]
     },
     "metadata": {},
     "output_type": "display_data"
    },
    {
     "data": {
      "text/html": [
       "<pre>recommendations finished on 61000/138452 queries. users per second: 2526.72</pre>"
      ],
      "text/plain": [
       "recommendations finished on 61000/138452 queries. users per second: 2526.72"
      ]
     },
     "metadata": {},
     "output_type": "display_data"
    },
    {
     "data": {
      "text/html": [
       "<pre>recommendations finished on 62000/138452 queries. users per second: 2521.35</pre>"
      ],
      "text/plain": [
       "recommendations finished on 62000/138452 queries. users per second: 2521.35"
      ]
     },
     "metadata": {},
     "output_type": "display_data"
    },
    {
     "data": {
      "text/html": [
       "<pre>recommendations finished on 63000/138452 queries. users per second: 2511.06</pre>"
      ],
      "text/plain": [
       "recommendations finished on 63000/138452 queries. users per second: 2511.06"
      ]
     },
     "metadata": {},
     "output_type": "display_data"
    },
    {
     "data": {
      "text/html": [
       "<pre>recommendations finished on 64000/138452 queries. users per second: 2504.1</pre>"
      ],
      "text/plain": [
       "recommendations finished on 64000/138452 queries. users per second: 2504.1"
      ]
     },
     "metadata": {},
     "output_type": "display_data"
    },
    {
     "data": {
      "text/html": [
       "<pre>recommendations finished on 65000/138452 queries. users per second: 2498.25</pre>"
      ],
      "text/plain": [
       "recommendations finished on 65000/138452 queries. users per second: 2498.25"
      ]
     },
     "metadata": {},
     "output_type": "display_data"
    },
    {
     "data": {
      "text/html": [
       "<pre>recommendations finished on 66000/138452 queries. users per second: 2489.63</pre>"
      ],
      "text/plain": [
       "recommendations finished on 66000/138452 queries. users per second: 2489.63"
      ]
     },
     "metadata": {},
     "output_type": "display_data"
    },
    {
     "data": {
      "text/html": [
       "<pre>recommendations finished on 67000/138452 queries. users per second: 2488.58</pre>"
      ],
      "text/plain": [
       "recommendations finished on 67000/138452 queries. users per second: 2488.58"
      ]
     },
     "metadata": {},
     "output_type": "display_data"
    },
    {
     "data": {
      "text/html": [
       "<pre>recommendations finished on 68000/138452 queries. users per second: 2489.11</pre>"
      ],
      "text/plain": [
       "recommendations finished on 68000/138452 queries. users per second: 2489.11"
      ]
     },
     "metadata": {},
     "output_type": "display_data"
    },
    {
     "data": {
      "text/html": [
       "<pre>recommendations finished on 69000/138452 queries. users per second: 2487.39</pre>"
      ],
      "text/plain": [
       "recommendations finished on 69000/138452 queries. users per second: 2487.39"
      ]
     },
     "metadata": {},
     "output_type": "display_data"
    },
    {
     "data": {
      "text/html": [
       "<pre>recommendations finished on 70000/138452 queries. users per second: 2477.53</pre>"
      ],
      "text/plain": [
       "recommendations finished on 70000/138452 queries. users per second: 2477.53"
      ]
     },
     "metadata": {},
     "output_type": "display_data"
    },
    {
     "data": {
      "text/html": [
       "<pre>recommendations finished on 71000/138452 queries. users per second: 2477.18</pre>"
      ],
      "text/plain": [
       "recommendations finished on 71000/138452 queries. users per second: 2477.18"
      ]
     },
     "metadata": {},
     "output_type": "display_data"
    },
    {
     "data": {
      "text/html": [
       "<pre>recommendations finished on 72000/138452 queries. users per second: 2472.75</pre>"
      ],
      "text/plain": [
       "recommendations finished on 72000/138452 queries. users per second: 2472.75"
      ]
     },
     "metadata": {},
     "output_type": "display_data"
    },
    {
     "data": {
      "text/html": [
       "<pre>recommendations finished on 73000/138452 queries. users per second: 2468.86</pre>"
      ],
      "text/plain": [
       "recommendations finished on 73000/138452 queries. users per second: 2468.86"
      ]
     },
     "metadata": {},
     "output_type": "display_data"
    },
    {
     "data": {
      "text/html": [
       "<pre>recommendations finished on 74000/138452 queries. users per second: 2462.92</pre>"
      ],
      "text/plain": [
       "recommendations finished on 74000/138452 queries. users per second: 2462.92"
      ]
     },
     "metadata": {},
     "output_type": "display_data"
    },
    {
     "data": {
      "text/html": [
       "<pre>recommendations finished on 75000/138452 queries. users per second: 2460.4</pre>"
      ],
      "text/plain": [
       "recommendations finished on 75000/138452 queries. users per second: 2460.4"
      ]
     },
     "metadata": {},
     "output_type": "display_data"
    },
    {
     "data": {
      "text/html": [
       "<pre>recommendations finished on 76000/138452 queries. users per second: 2457.24</pre>"
      ],
      "text/plain": [
       "recommendations finished on 76000/138452 queries. users per second: 2457.24"
      ]
     },
     "metadata": {},
     "output_type": "display_data"
    },
    {
     "data": {
      "text/html": [
       "<pre>recommendations finished on 77000/138452 queries. users per second: 2455.83</pre>"
      ],
      "text/plain": [
       "recommendations finished on 77000/138452 queries. users per second: 2455.83"
      ]
     },
     "metadata": {},
     "output_type": "display_data"
    },
    {
     "data": {
      "text/html": [
       "<pre>recommendations finished on 78000/138452 queries. users per second: 2456.7</pre>"
      ],
      "text/plain": [
       "recommendations finished on 78000/138452 queries. users per second: 2456.7"
      ]
     },
     "metadata": {},
     "output_type": "display_data"
    },
    {
     "data": {
      "text/html": [
       "<pre>recommendations finished on 79000/138452 queries. users per second: 2453.81</pre>"
      ],
      "text/plain": [
       "recommendations finished on 79000/138452 queries. users per second: 2453.81"
      ]
     },
     "metadata": {},
     "output_type": "display_data"
    },
    {
     "data": {
      "text/html": [
       "<pre>recommendations finished on 80000/138452 queries. users per second: 2455.14</pre>"
      ],
      "text/plain": [
       "recommendations finished on 80000/138452 queries. users per second: 2455.14"
      ]
     },
     "metadata": {},
     "output_type": "display_data"
    },
    {
     "data": {
      "text/html": [
       "<pre>recommendations finished on 81000/138452 queries. users per second: 2446.94</pre>"
      ],
      "text/plain": [
       "recommendations finished on 81000/138452 queries. users per second: 2446.94"
      ]
     },
     "metadata": {},
     "output_type": "display_data"
    },
    {
     "data": {
      "text/html": [
       "<pre>recommendations finished on 82000/138452 queries. users per second: 2449.41</pre>"
      ],
      "text/plain": [
       "recommendations finished on 82000/138452 queries. users per second: 2449.41"
      ]
     },
     "metadata": {},
     "output_type": "display_data"
    },
    {
     "data": {
      "text/html": [
       "<pre>recommendations finished on 83000/138452 queries. users per second: 2450.6</pre>"
      ],
      "text/plain": [
       "recommendations finished on 83000/138452 queries. users per second: 2450.6"
      ]
     },
     "metadata": {},
     "output_type": "display_data"
    },
    {
     "data": {
      "text/html": [
       "<pre>recommendations finished on 84000/138452 queries. users per second: 2452.77</pre>"
      ],
      "text/plain": [
       "recommendations finished on 84000/138452 queries. users per second: 2452.77"
      ]
     },
     "metadata": {},
     "output_type": "display_data"
    },
    {
     "data": {
      "text/html": [
       "<pre>recommendations finished on 85000/138452 queries. users per second: 2454.39</pre>"
      ],
      "text/plain": [
       "recommendations finished on 85000/138452 queries. users per second: 2454.39"
      ]
     },
     "metadata": {},
     "output_type": "display_data"
    },
    {
     "data": {
      "text/html": [
       "<pre>recommendations finished on 86000/138452 queries. users per second: 2451.99</pre>"
      ],
      "text/plain": [
       "recommendations finished on 86000/138452 queries. users per second: 2451.99"
      ]
     },
     "metadata": {},
     "output_type": "display_data"
    },
    {
     "data": {
      "text/html": [
       "<pre>recommendations finished on 87000/138452 queries. users per second: 2447.73</pre>"
      ],
      "text/plain": [
       "recommendations finished on 87000/138452 queries. users per second: 2447.73"
      ]
     },
     "metadata": {},
     "output_type": "display_data"
    },
    {
     "data": {
      "text/html": [
       "<pre>recommendations finished on 88000/138452 queries. users per second: 2444.73</pre>"
      ],
      "text/plain": [
       "recommendations finished on 88000/138452 queries. users per second: 2444.73"
      ]
     },
     "metadata": {},
     "output_type": "display_data"
    },
    {
     "data": {
      "text/html": [
       "<pre>recommendations finished on 89000/138452 queries. users per second: 2441.86</pre>"
      ],
      "text/plain": [
       "recommendations finished on 89000/138452 queries. users per second: 2441.86"
      ]
     },
     "metadata": {},
     "output_type": "display_data"
    },
    {
     "data": {
      "text/html": [
       "<pre>recommendations finished on 90000/138452 queries. users per second: 2437.27</pre>"
      ],
      "text/plain": [
       "recommendations finished on 90000/138452 queries. users per second: 2437.27"
      ]
     },
     "metadata": {},
     "output_type": "display_data"
    },
    {
     "data": {
      "text/html": [
       "<pre>recommendations finished on 91000/138452 queries. users per second: 2435.7</pre>"
      ],
      "text/plain": [
       "recommendations finished on 91000/138452 queries. users per second: 2435.7"
      ]
     },
     "metadata": {},
     "output_type": "display_data"
    },
    {
     "data": {
      "text/html": [
       "<pre>recommendations finished on 92000/138452 queries. users per second: 2429.19</pre>"
      ],
      "text/plain": [
       "recommendations finished on 92000/138452 queries. users per second: 2429.19"
      ]
     },
     "metadata": {},
     "output_type": "display_data"
    },
    {
     "data": {
      "text/html": [
       "<pre>recommendations finished on 93000/138452 queries. users per second: 2420.88</pre>"
      ],
      "text/plain": [
       "recommendations finished on 93000/138452 queries. users per second: 2420.88"
      ]
     },
     "metadata": {},
     "output_type": "display_data"
    },
    {
     "data": {
      "text/html": [
       "<pre>recommendations finished on 94000/138452 queries. users per second: 2420.01</pre>"
      ],
      "text/plain": [
       "recommendations finished on 94000/138452 queries. users per second: 2420.01"
      ]
     },
     "metadata": {},
     "output_type": "display_data"
    },
    {
     "data": {
      "text/html": [
       "<pre>recommendations finished on 95000/138452 queries. users per second: 2415.71</pre>"
      ],
      "text/plain": [
       "recommendations finished on 95000/138452 queries. users per second: 2415.71"
      ]
     },
     "metadata": {},
     "output_type": "display_data"
    },
    {
     "data": {
      "text/html": [
       "<pre>recommendations finished on 96000/138452 queries. users per second: 2411.97</pre>"
      ],
      "text/plain": [
       "recommendations finished on 96000/138452 queries. users per second: 2411.97"
      ]
     },
     "metadata": {},
     "output_type": "display_data"
    },
    {
     "data": {
      "text/html": [
       "<pre>recommendations finished on 97000/138452 queries. users per second: 2406.89</pre>"
      ],
      "text/plain": [
       "recommendations finished on 97000/138452 queries. users per second: 2406.89"
      ]
     },
     "metadata": {},
     "output_type": "display_data"
    },
    {
     "data": {
      "text/html": [
       "<pre>recommendations finished on 98000/138452 queries. users per second: 2402.89</pre>"
      ],
      "text/plain": [
       "recommendations finished on 98000/138452 queries. users per second: 2402.89"
      ]
     },
     "metadata": {},
     "output_type": "display_data"
    },
    {
     "data": {
      "text/html": [
       "<pre>recommendations finished on 99000/138452 queries. users per second: 2400.27</pre>"
      ],
      "text/plain": [
       "recommendations finished on 99000/138452 queries. users per second: 2400.27"
      ]
     },
     "metadata": {},
     "output_type": "display_data"
    },
    {
     "data": {
      "text/html": [
       "<pre>recommendations finished on 100000/138452 queries. users per second: 2397.83</pre>"
      ],
      "text/plain": [
       "recommendations finished on 100000/138452 queries. users per second: 2397.83"
      ]
     },
     "metadata": {},
     "output_type": "display_data"
    },
    {
     "data": {
      "text/html": [
       "<pre>recommendations finished on 101000/138452 queries. users per second: 2399.71</pre>"
      ],
      "text/plain": [
       "recommendations finished on 101000/138452 queries. users per second: 2399.71"
      ]
     },
     "metadata": {},
     "output_type": "display_data"
    },
    {
     "data": {
      "text/html": [
       "<pre>recommendations finished on 102000/138452 queries. users per second: 2402.35</pre>"
      ],
      "text/plain": [
       "recommendations finished on 102000/138452 queries. users per second: 2402.35"
      ]
     },
     "metadata": {},
     "output_type": "display_data"
    },
    {
     "data": {
      "text/html": [
       "<pre>recommendations finished on 103000/138452 queries. users per second: 2402.48</pre>"
      ],
      "text/plain": [
       "recommendations finished on 103000/138452 queries. users per second: 2402.48"
      ]
     },
     "metadata": {},
     "output_type": "display_data"
    },
    {
     "data": {
      "text/html": [
       "<pre>recommendations finished on 104000/138452 queries. users per second: 2402.11</pre>"
      ],
      "text/plain": [
       "recommendations finished on 104000/138452 queries. users per second: 2402.11"
      ]
     },
     "metadata": {},
     "output_type": "display_data"
    },
    {
     "data": {
      "text/html": [
       "<pre>recommendations finished on 105000/138452 queries. users per second: 2403.67</pre>"
      ],
      "text/plain": [
       "recommendations finished on 105000/138452 queries. users per second: 2403.67"
      ]
     },
     "metadata": {},
     "output_type": "display_data"
    },
    {
     "data": {
      "text/html": [
       "<pre>recommendations finished on 106000/138452 queries. users per second: 2404.66</pre>"
      ],
      "text/plain": [
       "recommendations finished on 106000/138452 queries. users per second: 2404.66"
      ]
     },
     "metadata": {},
     "output_type": "display_data"
    },
    {
     "data": {
      "text/html": [
       "<pre>recommendations finished on 107000/138452 queries. users per second: 2402.12</pre>"
      ],
      "text/plain": [
       "recommendations finished on 107000/138452 queries. users per second: 2402.12"
      ]
     },
     "metadata": {},
     "output_type": "display_data"
    },
    {
     "data": {
      "text/html": [
       "<pre>recommendations finished on 108000/138452 queries. users per second: 2399.16</pre>"
      ],
      "text/plain": [
       "recommendations finished on 108000/138452 queries. users per second: 2399.16"
      ]
     },
     "metadata": {},
     "output_type": "display_data"
    },
    {
     "data": {
      "text/html": [
       "<pre>recommendations finished on 109000/138452 queries. users per second: 2397.21</pre>"
      ],
      "text/plain": [
       "recommendations finished on 109000/138452 queries. users per second: 2397.21"
      ]
     },
     "metadata": {},
     "output_type": "display_data"
    },
    {
     "data": {
      "text/html": [
       "<pre>recommendations finished on 110000/138452 queries. users per second: 2399.74</pre>"
      ],
      "text/plain": [
       "recommendations finished on 110000/138452 queries. users per second: 2399.74"
      ]
     },
     "metadata": {},
     "output_type": "display_data"
    },
    {
     "data": {
      "text/html": [
       "<pre>recommendations finished on 111000/138452 queries. users per second: 2402.44</pre>"
      ],
      "text/plain": [
       "recommendations finished on 111000/138452 queries. users per second: 2402.44"
      ]
     },
     "metadata": {},
     "output_type": "display_data"
    },
    {
     "data": {
      "text/html": [
       "<pre>recommendations finished on 112000/138452 queries. users per second: 2405.76</pre>"
      ],
      "text/plain": [
       "recommendations finished on 112000/138452 queries. users per second: 2405.76"
      ]
     },
     "metadata": {},
     "output_type": "display_data"
    },
    {
     "data": {
      "text/html": [
       "<pre>recommendations finished on 113000/138452 queries. users per second: 2408.52</pre>"
      ],
      "text/plain": [
       "recommendations finished on 113000/138452 queries. users per second: 2408.52"
      ]
     },
     "metadata": {},
     "output_type": "display_data"
    },
    {
     "data": {
      "text/html": [
       "<pre>recommendations finished on 114000/138452 queries. users per second: 2411.08</pre>"
      ],
      "text/plain": [
       "recommendations finished on 114000/138452 queries. users per second: 2411.08"
      ]
     },
     "metadata": {},
     "output_type": "display_data"
    },
    {
     "data": {
      "text/html": [
       "<pre>recommendations finished on 115000/138452 queries. users per second: 2413.14</pre>"
      ],
      "text/plain": [
       "recommendations finished on 115000/138452 queries. users per second: 2413.14"
      ]
     },
     "metadata": {},
     "output_type": "display_data"
    },
    {
     "data": {
      "text/html": [
       "<pre>recommendations finished on 116000/138452 queries. users per second: 2412.06</pre>"
      ],
      "text/plain": [
       "recommendations finished on 116000/138452 queries. users per second: 2412.06"
      ]
     },
     "metadata": {},
     "output_type": "display_data"
    },
    {
     "data": {
      "text/html": [
       "<pre>recommendations finished on 117000/138452 queries. users per second: 2413.08</pre>"
      ],
      "text/plain": [
       "recommendations finished on 117000/138452 queries. users per second: 2413.08"
      ]
     },
     "metadata": {},
     "output_type": "display_data"
    },
    {
     "data": {
      "text/html": [
       "<pre>recommendations finished on 118000/138452 queries. users per second: 2411.25</pre>"
      ],
      "text/plain": [
       "recommendations finished on 118000/138452 queries. users per second: 2411.25"
      ]
     },
     "metadata": {},
     "output_type": "display_data"
    },
    {
     "data": {
      "text/html": [
       "<pre>recommendations finished on 119000/138452 queries. users per second: 2408.72</pre>"
      ],
      "text/plain": [
       "recommendations finished on 119000/138452 queries. users per second: 2408.72"
      ]
     },
     "metadata": {},
     "output_type": "display_data"
    },
    {
     "data": {
      "text/html": [
       "<pre>recommendations finished on 120000/138452 queries. users per second: 2406.45</pre>"
      ],
      "text/plain": [
       "recommendations finished on 120000/138452 queries. users per second: 2406.45"
      ]
     },
     "metadata": {},
     "output_type": "display_data"
    },
    {
     "data": {
      "text/html": [
       "<pre>recommendations finished on 121000/138452 queries. users per second: 2406.86</pre>"
      ],
      "text/plain": [
       "recommendations finished on 121000/138452 queries. users per second: 2406.86"
      ]
     },
     "metadata": {},
     "output_type": "display_data"
    },
    {
     "data": {
      "text/html": [
       "<pre>recommendations finished on 122000/138452 queries. users per second: 2408.07</pre>"
      ],
      "text/plain": [
       "recommendations finished on 122000/138452 queries. users per second: 2408.07"
      ]
     },
     "metadata": {},
     "output_type": "display_data"
    },
    {
     "data": {
      "text/html": [
       "<pre>recommendations finished on 123000/138452 queries. users per second: 2409.05</pre>"
      ],
      "text/plain": [
       "recommendations finished on 123000/138452 queries. users per second: 2409.05"
      ]
     },
     "metadata": {},
     "output_type": "display_data"
    },
    {
     "data": {
      "text/html": [
       "<pre>recommendations finished on 124000/138452 queries. users per second: 2405.25</pre>"
      ],
      "text/plain": [
       "recommendations finished on 124000/138452 queries. users per second: 2405.25"
      ]
     },
     "metadata": {},
     "output_type": "display_data"
    },
    {
     "data": {
      "text/html": [
       "<pre>recommendations finished on 125000/138452 queries. users per second: 2402.05</pre>"
      ],
      "text/plain": [
       "recommendations finished on 125000/138452 queries. users per second: 2402.05"
      ]
     },
     "metadata": {},
     "output_type": "display_data"
    },
    {
     "data": {
      "text/html": [
       "<pre>recommendations finished on 126000/138452 queries. users per second: 2399.27</pre>"
      ],
      "text/plain": [
       "recommendations finished on 126000/138452 queries. users per second: 2399.27"
      ]
     },
     "metadata": {},
     "output_type": "display_data"
    },
    {
     "data": {
      "text/html": [
       "<pre>recommendations finished on 127000/138452 queries. users per second: 2398.58</pre>"
      ],
      "text/plain": [
       "recommendations finished on 127000/138452 queries. users per second: 2398.58"
      ]
     },
     "metadata": {},
     "output_type": "display_data"
    },
    {
     "data": {
      "text/html": [
       "<pre>recommendations finished on 128000/138452 queries. users per second: 2398.85</pre>"
      ],
      "text/plain": [
       "recommendations finished on 128000/138452 queries. users per second: 2398.85"
      ]
     },
     "metadata": {},
     "output_type": "display_data"
    },
    {
     "data": {
      "text/html": [
       "<pre>recommendations finished on 129000/138452 queries. users per second: 2401.12</pre>"
      ],
      "text/plain": [
       "recommendations finished on 129000/138452 queries. users per second: 2401.12"
      ]
     },
     "metadata": {},
     "output_type": "display_data"
    },
    {
     "data": {
      "text/html": [
       "<pre>recommendations finished on 130000/138452 queries. users per second: 2399.37</pre>"
      ],
      "text/plain": [
       "recommendations finished on 130000/138452 queries. users per second: 2399.37"
      ]
     },
     "metadata": {},
     "output_type": "display_data"
    },
    {
     "data": {
      "text/html": [
       "<pre>recommendations finished on 131000/138452 queries. users per second: 2397.73</pre>"
      ],
      "text/plain": [
       "recommendations finished on 131000/138452 queries. users per second: 2397.73"
      ]
     },
     "metadata": {},
     "output_type": "display_data"
    },
    {
     "data": {
      "text/html": [
       "<pre>recommendations finished on 132000/138452 queries. users per second: 2396.12</pre>"
      ],
      "text/plain": [
       "recommendations finished on 132000/138452 queries. users per second: 2396.12"
      ]
     },
     "metadata": {},
     "output_type": "display_data"
    },
    {
     "data": {
      "text/html": [
       "<pre>recommendations finished on 133000/138452 queries. users per second: 2394.2</pre>"
      ],
      "text/plain": [
       "recommendations finished on 133000/138452 queries. users per second: 2394.2"
      ]
     },
     "metadata": {},
     "output_type": "display_data"
    },
    {
     "data": {
      "text/html": [
       "<pre>recommendations finished on 134000/138452 queries. users per second: 2392.65</pre>"
      ],
      "text/plain": [
       "recommendations finished on 134000/138452 queries. users per second: 2392.65"
      ]
     },
     "metadata": {},
     "output_type": "display_data"
    },
    {
     "data": {
      "text/html": [
       "<pre>recommendations finished on 135000/138452 queries. users per second: 2391.54</pre>"
      ],
      "text/plain": [
       "recommendations finished on 135000/138452 queries. users per second: 2391.54"
      ]
     },
     "metadata": {},
     "output_type": "display_data"
    },
    {
     "data": {
      "text/html": [
       "<pre>recommendations finished on 136000/138452 queries. users per second: 2390.66</pre>"
      ],
      "text/plain": [
       "recommendations finished on 136000/138452 queries. users per second: 2390.66"
      ]
     },
     "metadata": {},
     "output_type": "display_data"
    },
    {
     "data": {
      "text/html": [
       "<pre>recommendations finished on 137000/138452 queries. users per second: 2389.18</pre>"
      ],
      "text/plain": [
       "recommendations finished on 137000/138452 queries. users per second: 2389.18"
      ]
     },
     "metadata": {},
     "output_type": "display_data"
    },
    {
     "data": {
      "text/html": [
       "<pre>recommendations finished on 138000/138452 queries. users per second: 2385.14</pre>"
      ],
      "text/plain": [
       "recommendations finished on 138000/138452 queries. users per second: 2385.14"
      ]
     },
     "metadata": {},
     "output_type": "display_data"
    },
    {
     "name": "stdout",
     "output_type": "stream",
     "text": [
      "\n",
      "Precision and recall summary statistics by cutoff\n",
      "+--------+-------------------+-------------------+\n",
      "| cutoff |   mean_precision  |    mean_recall    |\n",
      "+--------+-------------------+-------------------+\n",
      "|   1    |        0.0        |        0.0        |\n",
      "|   2    |        0.0        |        0.0        |\n",
      "|   3    |        0.0        |        0.0        |\n",
      "|   4    |        0.0        |        0.0        |\n",
      "|   5    |        0.0        |        0.0        |\n",
      "|   6    |        0.0        |        0.0        |\n",
      "|   7    |        0.0        |        0.0        |\n",
      "|   8    |        0.0        |        0.0        |\n",
      "|   9    |        0.0        |        0.0        |\n",
      "|   10   | 7.22271978736e-07 | 4.94706834751e-08 |\n",
      "+--------+-------------------+-------------------+\n",
      "[10 rows x 3 columns]\n",
      "\n",
      "Model compare metric: precision_recall\n",
      "Canvas is accessible via web browser at the URL: http://localhost:60930/index.html\n",
      "Opening Canvas in default web browser.\n"
     ]
    }
   ],
   "source": [
    "# Calculating Accuracy of Predictions\n",
    "model_performance = graphlab.compare(test_data, [pop_model, col_filter_model])\n",
    "graphlab.show_comparison(model_performance,[pop_model, col_filter_model])"
   ]
  },
  {
   "cell_type": "code",
   "execution_count": 43,
   "metadata": {},
   "outputs": [
    {
     "data": {
      "image/png": "[encoded data removed]",
      "text/plain": [
       "<IPython.core.display.Image object>"
      ]
     },
     "execution_count": 43,
     "metadata": {},
     "output_type": "execute_result"
    }
   ],
   "source": [
    "Image(\"comparison.png\")"
   ]
  }
 ],
 "metadata": {
  "kernelspec": {
   "display_name": "Python [conda env:py27]",
   "language": "python",
   "name": "conda-env-py27-py"
  },
  "language_info": {
   "codemirror_mode": {
    "name": "ipython",
    "version": 2
   },
   "file_extension": ".py",
   "mimetype": "text/x-python",
   "name": "python",
   "nbconvert_exporter": "python",
   "pygments_lexer": "ipython2",
   "version": "2.7.15"
  }
 },
 "nbformat": 4,
 "nbformat_minor": 2
}
